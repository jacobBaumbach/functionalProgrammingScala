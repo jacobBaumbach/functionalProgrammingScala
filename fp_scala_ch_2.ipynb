{
 "cells": [
  {
   "cell_type": "markdown",
   "metadata": {},
   "source": [
    "# Functional Programming in Scala Chapter 2"
   ]
  },
  {
   "cell_type": "markdown",
   "metadata": {},
   "source": [
    "## Table of Contents\n",
    "- [Exercise 2.1 Fibonacci](#section1)\n",
    "- [Exercise 2.2 isSorted](#section2)\n",
    "- [Exercise 2.3: Currying](#section3)\n",
    "- [Exercise 2.4: Uncurry](#section4)\n",
    "- [Exercise 2.5: Compose](#section5)\n"
   ]
  },
  {
   "cell_type": "markdown",
   "metadata": {},
   "source": [
    "<a id='section1'></a>"
   ]
  },
  {
   "cell_type": "markdown",
   "metadata": {},
   "source": [
    "### Exercise 2.1 Fibonacci\n",
    "\n",
    "Write a recursive function to get the nth Fibonacci number (http://mng.bz/C29s). The first two Fibonacci numbers are 0 and 1. The nth number is always the sum of the previous two—the sequence begins 0, 1, 1, 2, 3, 5. Your definition should use a local tail-recursive function."
   ]
  },
  {
   "cell_type": "code",
   "execution_count": 50,
   "metadata": {
    "collapsed": false
   },
   "outputs": [
    {
     "data": {
      "text/plain": [
       "defined \u001b[32mfunction \u001b[36mfib\u001b[0m"
      ]
     },
     "metadata": {},
     "output_type": "display_data"
    }
   ],
   "source": [
    "def fib(n:Int):Int = {\n",
    "    //recursive implelmentation of fibonacci sequence that starts with index 0\n",
    "    //pass fib the index of the value of the fibonacci sequence you want and the fibonacci value will be returned\n",
    "    n match{//pattern matching to check for base cases\n",
    "        case 0 => 0//base case where want index 0 fibonacci value\n",
    "        case 1 => 1//base case where want index 1 fibonacci value\n",
    "        case _ => {//for all other index values the function will tail recurse to find the fibonacci value\n",
    "            @annotation.tailrec\n",
    "            def go(m: Int, prev:Int,cur:Int):Int = {\n",
    "                //go is a tail recursive function that returns the fibonacci value for an index not equal to 0 or 1\n",
    "                //go is passed the current index value, the previous index's fibonacci value and the current index's\n",
    "                //fibonacci value\n",
    "                //go will return an int equal to the fibonacci value of the desired sequence\n",
    "                if(m==n) cur//base case: fibonacci value of desired index\n",
    "                else go(m+1, cur, prev+cur)//tail recurse otherwise\n",
    "            }\n",
    "            go(2,1,1)//start at index 2 since we already know n is greater than 1 thanks to the pattern matching step\n",
    "        }\n",
    "    }\n",
    "}"
   ]
  },
  {
   "cell_type": "code",
   "execution_count": 54,
   "metadata": {
    "collapsed": false
   },
   "outputs": [
    {
     "data": {
      "text/plain": [
       "\u001b[36mres52\u001b[0m: \u001b[32mcollection\u001b[0m.\u001b[32mimmutable\u001b[0m.\u001b[32mIndexedSeq\u001b[0m[\u001b[32mInt\u001b[0m] = \u001b[33mVector\u001b[0m(\n",
       "  \u001b[32m0\u001b[0m,\n",
       "  \u001b[32m1\u001b[0m,\n",
       "  \u001b[32m1\u001b[0m,\n",
       "  \u001b[32m2\u001b[0m,\n",
       "  \u001b[32m3\u001b[0m,\n",
       "  \u001b[32m5\u001b[0m,\n",
       "  \u001b[32m8\u001b[0m,\n",
       "  \u001b[32m13\u001b[0m,\n",
       "  \u001b[32m21\u001b[0m,\n",
       "  \u001b[32m34\u001b[0m,\n",
       "  \u001b[32m55\u001b[0m\n",
       ")"
      ]
     },
     "metadata": {},
     "output_type": "display_data"
    }
   ],
   "source": [
    "0 to 10 map(fib)//test fib"
   ]
  },
  {
   "cell_type": "markdown",
   "metadata": {},
   "source": [
    "<a id='section2'></a>"
   ]
  },
  {
   "cell_type": "markdown",
   "metadata": {},
   "source": [
    "### Exercise 2.2 : isSorted\n",
    "\n",
    "Implement isSorted, which checks whether an Array[A] is sorted according to a given comparison function:"
   ]
  },
  {
   "cell_type": "code",
   "execution_count": 75,
   "metadata": {
    "collapsed": false
   },
   "outputs": [
    {
     "data": {
      "text/plain": [
       "defined \u001b[32mfunction \u001b[36misSorted\u001b[0m"
      ]
     },
     "metadata": {},
     "output_type": "display_data"
    }
   ],
   "source": [
    "def isSorted[A](as:Array[A], ordered: (A,A) => Boolean) : Boolean ={\n",
    "    //polymorphic function that checks whether or not an array is sorted according to the \n",
    "    //function ordered\n",
    "    //pass an array and a function that accepts two arguments of the same type as your array is composed of\n",
    "    //checks Boolean returned for pairwise elements of as is true\n",
    "    //if true for all pairwise the isSorted will return true otherwise it will return false\n",
    "    if(as.length<2) true//if as does not have pairwise elements return true\n",
    "    else{//if as has at least two elements\n",
    "        @annotation.tailrec\n",
    "        def go(head:A, tail:Array[A]): Boolean={\n",
    "            //tail recursive function accepts a single value of type A and an array of type A\n",
    "            //returns boolean\n",
    "            //if ordered returns true for all pairwise the isSorted will return true otherwise it will return false\n",
    "            //head is the first element of the remaining array elements that must be passed to ordered\n",
    "            //tail are the remaining elements that must be passed to ordered(excluding head, see above)\n",
    "            val eval = ordered(head,tail.head)//get the boolean from ordered for the first and second remaining elements \n",
    "            //that have not been checked, until now\n",
    "        \n",
    "            if(tail.length==1) eval//base case: last two elements return eval\n",
    "            else if(!eval) eval//base case: eval came up false\n",
    "            else go(tail.head,tail.tail)//eval was true so keep iterating\n",
    "        }\n",
    "        go(as.head,as.tail)\n",
    "    }\n",
    "}"
   ]
  },
  {
   "cell_type": "code",
   "execution_count": 66,
   "metadata": {
    "collapsed": false
   },
   "outputs": [
    {
     "data": {
      "text/plain": [
       "\u001b[36mres63\u001b[0m: \u001b[32mBoolean\u001b[0m = true"
      ]
     },
     "metadata": {},
     "output_type": "display_data"
    }
   ],
   "source": [
    "isSorted(1.to(10).toArray,(x:Int,y:Int) => x<y)//test for isSorted"
   ]
  },
  {
   "cell_type": "code",
   "execution_count": 67,
   "metadata": {
    "collapsed": false
   },
   "outputs": [
    {
     "data": {
      "text/plain": [
       "\u001b[36mres64\u001b[0m: \u001b[32mBoolean\u001b[0m = false"
      ]
     },
     "metadata": {},
     "output_type": "display_data"
    }
   ],
   "source": [
    "isSorted(1.to(10).toArray.reverse,(x:Int,y:Int) => x<y)//test for isSorted"
   ]
  },
  {
   "cell_type": "code",
   "execution_count": 70,
   "metadata": {
    "collapsed": false
   },
   "outputs": [
    {
     "data": {
      "text/plain": [
       "\u001b[36mres65\u001b[0m: \u001b[32mBoolean\u001b[0m = true"
      ]
     },
     "metadata": {},
     "output_type": "display_data"
    }
   ],
   "source": [
    "isSorted(Array(1),(x:Int,y:Int) => x<y)//test for isSorted"
   ]
  },
  {
   "cell_type": "code",
   "execution_count": 73,
   "metadata": {
    "collapsed": false
   },
   "outputs": [
    {
     "data": {
      "text/plain": [
       "\u001b[36mres66\u001b[0m: \u001b[32mBoolean\u001b[0m = true"
      ]
     },
     "metadata": {},
     "output_type": "display_data"
    }
   ],
   "source": [
    "isSorted(Array(\"a\",\"b\",\"c\"),(x:String,y:String) => x<y)//test for isSorted"
   ]
  },
  {
   "cell_type": "code",
   "execution_count": 74,
   "metadata": {
    "collapsed": false
   },
   "outputs": [
    {
     "data": {
      "text/plain": [
       "\u001b[36mres67\u001b[0m: \u001b[32mBoolean\u001b[0m = false"
      ]
     },
     "metadata": {},
     "output_type": "display_data"
    }
   ],
   "source": [
    "isSorted(Array(\"a\",\"b\",\"c\"),(x:String,y:String) => x>y)//test for isSorted"
   ]
  },
  {
   "cell_type": "markdown",
   "metadata": {},
   "source": [
    "<a id='section3'></a>"
   ]
  },
  {
   "cell_type": "markdown",
   "metadata": {},
   "source": [
    "### Exercise 2.3: Currying\n",
    "\n",
    "Let’s look at another example, currying,[9] which converts a function f of two arguments into a function of one argument that partially applies f. Here again there’s only one implementation that compiles. Write this implementation."
   ]
  },
  {
   "cell_type": "code",
   "execution_count": 77,
   "metadata": {
    "collapsed": false
   },
   "outputs": [
    {
     "data": {
      "text/plain": [
       "defined \u001b[32mfunction \u001b[36mcurry\u001b[0m"
      ]
     },
     "metadata": {},
     "output_type": "display_data"
    }
   ],
   "source": [
    "def curry[A,B,C](f:(A,B) => C) : A=>(B =>C) ={\n",
    "    //my own implementation of (f_).curried\n",
    "    a:A => b:B=>f(a,b)\n",
    "}"
   ]
  },
  {
   "cell_type": "code",
   "execution_count": 99,
   "metadata": {
    "collapsed": false
   },
   "outputs": [
    {
     "data": {
      "text/plain": [
       "\u001b[36maddCurry\u001b[0m: \u001b[32mInt\u001b[0m => \u001b[32mInt\u001b[0m => \u001b[32mInt\u001b[0m = <function1>\n",
       "\u001b[36madd1\u001b[0m: \u001b[32mInt\u001b[0m => \u001b[32mInt\u001b[0m = <function1>\n",
       "\u001b[36mres89_2\u001b[0m: \u001b[32mBoolean\u001b[0m = true\n",
       "\u001b[36mres89_3\u001b[0m: \u001b[32mBoolean\u001b[0m = true"
      ]
     },
     "metadata": {},
     "output_type": "display_data"
    }
   ],
   "source": [
    "//test of curry\n",
    "val addCurry = curry((a:Int,b:Int) => a+b)\n",
    "val add1 = addCurry(1)\n",
    "add1(-1) == 0\n",
    "add1(100) == 101"
   ]
  },
  {
   "cell_type": "markdown",
   "metadata": {},
   "source": [
    "<a id='section4'></a>"
   ]
  },
  {
   "cell_type": "markdown",
   "metadata": {},
   "source": [
    "### Exercise 2.4: Uncurry\n",
    "\n",
    "Implement uncurry, which reverses the transformation of curry. Note that since => associates to the right, A => (B => C) can be written as A => B => C."
   ]
  },
  {
   "cell_type": "code",
   "execution_count": 92,
   "metadata": {
    "collapsed": false
   },
   "outputs": [
    {
     "data": {
      "text/plain": [
       "defined \u001b[32mfunction \u001b[36muncurry\u001b[0m"
      ]
     },
     "metadata": {},
     "output_type": "display_data"
    }
   ],
   "source": [
    "def uncurry[A,B,C](f:A => B=> C): (A,B)=>C ={\n",
    "    //uncurry accepts a curried function and allows you to pass both parameters simultaneously\n",
    "    (a:A, b:B) => f(a)(b)\n",
    "}"
   ]
  },
  {
   "cell_type": "code",
   "execution_count": 100,
   "metadata": {
    "collapsed": false
   },
   "outputs": [
    {
     "data": {
      "text/plain": [
       "\u001b[36mtst\u001b[0m: (\u001b[32mInt\u001b[0m, \u001b[32mInt\u001b[0m) => \u001b[32mInt\u001b[0m = <function2>\n",
       "\u001b[36mres90_1\u001b[0m: \u001b[32mBoolean\u001b[0m = true"
      ]
     },
     "metadata": {},
     "output_type": "display_data"
    }
   ],
   "source": [
    "val tst = uncurry(addCurry)//take the function I curried and test my uncurry function\n",
    "tst(1,20)==21 //test result"
   ]
  },
  {
   "cell_type": "markdown",
   "metadata": {},
   "source": [
    "<a id='section5'></a>"
   ]
  },
  {
   "cell_type": "markdown",
   "metadata": {},
   "source": [
    "### Exercise 2.5: Compose\n",
    "\n",
    "Implement the higher-order function that composes two functions."
   ]
  },
  {
   "cell_type": "code",
   "execution_count": 95,
   "metadata": {
    "collapsed": false
   },
   "outputs": [
    {
     "data": {
      "text/plain": [
       "defined \u001b[32mfunction \u001b[36mcompose\u001b[0m"
      ]
     },
     "metadata": {},
     "output_type": "display_data"
    }
   ],
   "source": [
    "def compose[A,B,C](f:B=>C,g:A=>B): A => C ={\n",
    "    //own implementation of g andThen f or f compose g, composes the two functions\n",
    "    a:A => f(g(a))\n",
    "}"
   ]
  },
  {
   "cell_type": "code",
   "execution_count": 98,
   "metadata": {
    "collapsed": false
   },
   "outputs": [
    {
     "data": {
      "text/plain": [
       "\u001b[36minvert2String\u001b[0m: \u001b[32mInt\u001b[0m => \u001b[32mString\u001b[0m = <function1>\n",
       "\u001b[36mres88_1\u001b[0m: \u001b[32mString\u001b[0m = \u001b[32m\"0.3333333333333333\"\u001b[0m"
      ]
     },
     "metadata": {},
     "output_type": "display_data"
    }
   ],
   "source": [
    "val invert2String = compose({x:Double => (1/x).toString},{y:Int => y.toDouble})//test function for compose\n",
    "invert2String(3)//make sure compose works"
   ]
  },
  {
   "cell_type": "code",
   "execution_count": null,
   "metadata": {
    "collapsed": true
   },
   "outputs": [],
   "source": []
  }
 ],
 "metadata": {
  "kernelspec": {
   "display_name": "Scala 2.11",
   "language": "scala211",
   "name": "scala211"
  },
  "language_info": {
   "codemirror_mode": "text/x-scala",
   "file_extension": ".scala",
   "mimetype": "text/x-scala",
   "name": "scala211",
   "pygments_lexer": "scala",
   "version": "2.11.6"
  }
 },
 "nbformat": 4,
 "nbformat_minor": 0
}
