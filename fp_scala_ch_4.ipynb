{
 "cells": [
  {
   "cell_type": "markdown",
   "metadata": {},
   "source": [
    "# Functional Programming in Scala Chapter 4"
   ]
  },
  {
   "cell_type": "markdown",
   "metadata": {},
   "source": [
    "## Table of Contents\n",
    "- [Option trait and Case Classes](#section0)\n",
    "- [Exercise 4.1: Option Methods](#section1)\n",
    "- [mean given code](#section1.5)\n",
    "- [Exercise 4.2: variance](#section2)\n",
    "- [Exercise 4.3: map2](#section3)\n",
    "- [Exercise 4.4: list of Options](#section4)\n",
    "- [Exercise 4.5: traverse](#section5)\n",
    "- [Either trait and Case Classes](#section5.5)\n",
    "- [Exercise 4.6: Either](#section6)\n",
    "- [Exercise 4.7: Either sequence and traverse](#section7)\n",
    "- [Exercise 4.8: question about given code](#section8)"
   ]
  },
  {
   "cell_type": "markdown",
   "metadata": {},
   "source": [
    "<a id='section0'></a>"
   ]
  },
  {
   "cell_type": "markdown",
   "metadata": {},
   "source": [
    "### Option trait and Case Classes"
   ]
  },
  {
   "cell_type": "code",
   "execution_count": null,
   "metadata": {
    "collapsed": false
   },
   "outputs": [],
   "source": [
    "trait Option[+A]{//define trait\n",
    "    //all these functions are set up and implemented in 4.1\n",
    "    def map[B](f: A=>B): Option[B] \n",
    "    def flatMap[B](f: A => Option[B]): Option[B] \n",
    "    def getOrElse[B >: A](default: => B): B \n",
    "    def orElse[B >: A](ob: => Option[B]): Option[B]\n",
    "    def filter(f: A => Boolean): Option[A] \n",
    "}\n",
    "\n",
    "case class Some[+A](get: A) extends Option[A]//case class for correct value\n",
    "case object None extends Option[Nothing]// case class for incorrect value"
   ]
  },
  {
   "cell_type": "markdown",
   "metadata": {},
   "source": [
    "<a id='section1'></a>"
   ]
  },
  {
   "cell_type": "markdown",
   "metadata": {},
   "source": [
    "### Exercise 4.1: Option Methods\n",
    "Implement all of the preceding functions on Option. As you implement each function, try to think about what it means and in what situations you’d use it. We’ll explore when to use each of these functions next. Here are a few hints for solving this exercise:\n",
    "\n",
    "- It’s fine to use pattern matching, though you should be able to implement all the functions besides map and getOrElse without resorting to pattern matching.\n",
    "- For map and flatMap, the type signature should be enough to determine the implementation.\n",
    "- getOrElse returns the result inside the Some case of the Option, or if the Option is None, returns the given default value.\n",
    "- orElse returns the first Option if it’s defined; otherwise, it returns the second Option."
   ]
  },
  {
   "cell_type": "code",
   "execution_count": 23,
   "metadata": {
    "collapsed": false
   },
   "outputs": [
    {
     "data": {
      "text/plain": [
       "defined \u001b[32mtrait \u001b[36mOption\u001b[0m\n",
       "defined \u001b[32mclass \u001b[36mSome\u001b[0m\n",
       "defined \u001b[32mobject \u001b[36mNone\u001b[0m"
      ]
     },
     "metadata": {},
     "output_type": "display_data"
    }
   ],
   "source": [
    "trait Option[+A]{\n",
    "    def map[B](f: A=>B): Option[B] = {\n",
    "        //take the instance of Option apply f to its value and return a new Option\n",
    "        this match {\n",
    "            case None => None\n",
    "            case Some(get) => Some(f(get))\n",
    "        }\n",
    "    }\n",
    "    \n",
    "    def flatMap[B](f: A => Option[B]): Option[B] = {\n",
    "        //take the instance of Option apply f and return the new option\n",
    "        map(f).getOrElse(None)\n",
    "    }\n",
    "    def getOrElse[B >: A](default: => B): B = {\n",
    "        //return the value of this Option if it exists or return default value specified by user\n",
    "        this match {\n",
    "            case None => default\n",
    "            case Some(get) => get\n",
    "        }\n",
    "    }\n",
    "     def orElse[B >: A](ob: => Option[B]): Option[B] = {\n",
    "         //return the option itself if not None or return value specified by user\n",
    "         this match{\n",
    "             case None => ob\n",
    "             case _ => this\n",
    "         }\n",
    "     }\n",
    "     def filter(f: A => Boolean): Option[A] = {\n",
    "         //apply f to value of option \n",
    "         //if option is None return None\n",
    "         // if f(value) if true return the option\n",
    "         //if f(value) is false return None\n",
    "         this match{\n",
    "             case None => None\n",
    "             case Some(get) if f(get) => this\n",
    "             case Some(get) => None\n",
    "         }\n",
    "     }\n",
    "}\n",
    "\n",
    "case class Some[+A](get: A) extends Option[A]\n",
    "case object None extends Option[Nothing]"
   ]
  },
  {
   "cell_type": "code",
   "execution_count": 52,
   "metadata": {
    "collapsed": false
   },
   "outputs": [
    {
     "data": {
      "text/plain": [
       "\u001b[36mres22_0\u001b[0m: \u001b[32mOption\u001b[0m[\u001b[32mInt\u001b[0m] = Some(2)\n",
       "\u001b[36mres22_1\u001b[0m: \u001b[32mOption\u001b[0m[\u001b[32mDouble\u001b[0m] = Some(2.0)"
      ]
     },
     "metadata": {},
     "output_type": "display_data"
    }
   ],
   "source": [
    "Some(1).map(_*2)\n",
    "Some(1).flatMap(a => Some(2.0*a))"
   ]
  },
  {
   "cell_type": "markdown",
   "metadata": {},
   "source": [
    "<a id='section1.5'></a>"
   ]
  },
  {
   "cell_type": "markdown",
   "metadata": {},
   "source": [
    "### mean given code\n"
   ]
  },
  {
   "cell_type": "code",
   "execution_count": 1,
   "metadata": {
    "collapsed": false
   },
   "outputs": [
    {
     "data": {
      "text/plain": [
       "defined \u001b[32mfunction \u001b[36mmean\u001b[0m"
      ]
     },
     "metadata": {},
     "output_type": "display_data"
    }
   ],
   "source": [
    "//this function for mean is provided by the author and is used in 4.2\n",
    "def mean(xs: Seq[Double]): Option[Double] =\n",
    "//return the mean of a sequence\n",
    "  if (xs.isEmpty) None//if sequence empty return None\n",
    "  else Some(xs.sum / xs.length)//else return the result wrapped in option"
   ]
  },
  {
   "cell_type": "markdown",
   "metadata": {},
   "source": [
    "<a id='section2'></a>"
   ]
  },
  {
   "cell_type": "markdown",
   "metadata": {},
   "source": [
    "### Exercise 4.2: variance\n",
    "Implement the variance function in terms of flatMap. If the mean of a sequence is m, the variance is the mean of math.pow(x - m, 2) for each element x in the sequence. See the definition of variance on Wikipedia (http://mng.bz/0Qsr)."
   ]
  },
  {
   "cell_type": "code",
   "execution_count": 46,
   "metadata": {
    "collapsed": false
   },
   "outputs": [
    {
     "data": {
      "text/plain": [
       "defined \u001b[32mfunction \u001b[36mmean\u001b[0m\n",
       "defined \u001b[32mfunction \u001b[36mvariance\u001b[0m"
      ]
     },
     "metadata": {},
     "output_type": "display_data"
    }
   ],
   "source": [
    "def variance(xs: Seq[Double]): Option[Double] = {\n",
    "    //calculate the variance of a given sequence\n",
    "    mean(xs).flatMap(m => Some(xs.map(x=>math.pow(x-m,2)).sum/xs.length))\n",
    "    //apply mean to the sequence if None then skip the rest of the computation else calculate the mean\n",
    "}\n"
   ]
  },
  {
   "cell_type": "code",
   "execution_count": 50,
   "metadata": {
    "collapsed": false
   },
   "outputs": [
    {
     "data": {
      "text/plain": [
       "\u001b[36mres21\u001b[0m: \u001b[32mOption\u001b[0m[\u001b[32mDouble\u001b[0m] = Some(0.0)"
      ]
     },
     "metadata": {},
     "output_type": "display_data"
    }
   ],
   "source": [
    "variance(Seq(1,1,1,1,1))"
   ]
  },
  {
   "cell_type": "markdown",
   "metadata": {
    "collapsed": true
   },
   "source": [
    "<a id='section3'></a>"
   ]
  },
  {
   "cell_type": "markdown",
   "metadata": {},
   "source": [
    "### Exercise 4.3: map2\n",
    "Write a generic function map2 that combines two Option values using a binary function. If either Option value is None, then the return value is too. Here is its signature:"
   ]
  },
  {
   "cell_type": "code",
   "execution_count": 60,
   "metadata": {
    "collapsed": false
   },
   "outputs": [
    {
     "data": {
      "text/plain": [
       "defined \u001b[32mfunction \u001b[36mmap2\u001b[0m"
      ]
     },
     "metadata": {},
     "output_type": "display_data"
    }
   ],
   "source": [
    "def map2[A,B,C](a: Option[A], b: Option[B])(f: (A,B) => C): Option[C] = {\n",
    "    //accepts two options and a function that accepts two arguments of the Types wrapped in the two options\n",
    "    //and returns the value of applying f to the two values in the Options passed, wrapped in an option\n",
    "    a.flatMap(aa => b.map(bb => f(aa,bb)))\n",
    "}"
   ]
  },
  {
   "cell_type": "code",
   "execution_count": 66,
   "metadata": {
    "collapsed": false
   },
   "outputs": [
    {
     "data": {
      "text/plain": [
       "\u001b[36mres18\u001b[0m: \u001b[32mOption\u001b[0m[\u001b[32mInt\u001b[0m] = Some(3)"
      ]
     },
     "metadata": {},
     "output_type": "display_data"
    }
   ],
   "source": [
    "map2(Some(1),Some(2))((a,b) => a+b)"
   ]
  },
  {
   "cell_type": "markdown",
   "metadata": {},
   "source": [
    "<a id='section4'></a>"
   ]
  },
  {
   "cell_type": "markdown",
   "metadata": {},
   "source": [
    "### Exercise 4.4: list of Options\n",
    "Write a function sequence that combines a list of Options into one Option containing a list of all the Some values in the original list. If the original list contains None even once, the result of the function should be None; otherwise the result should be Some with a list of all the values. Here is its signature:[3]"
   ]
  },
  {
   "cell_type": "code",
   "execution_count": 71,
   "metadata": {
    "collapsed": false
   },
   "outputs": [
    {
     "data": {
      "text/plain": [
       "defined \u001b[32mfunction \u001b[36msequence\u001b[0m"
      ]
     },
     "metadata": {},
     "output_type": "display_data"
    }
   ],
   "source": [
    "def sequence[A](a: List[Option[A]]): Option[List[A]] = {\n",
    "    //iterate through a list of options and get each options value then convert list of values into option list of values\n",
    "    Some(a.map(_.getOrElse(null.asInstanceOf[A])))\n",
    "}"
   ]
  },
  {
   "cell_type": "code",
   "execution_count": 72,
   "metadata": {
    "collapsed": false
   },
   "outputs": [
    {
     "data": {
      "text/plain": [
       "\u001b[36mres20\u001b[0m: \u001b[32mOption\u001b[0m[\u001b[32mList\u001b[0m[\u001b[32mInt\u001b[0m]] = Some(List(1, null, 4, null))"
      ]
     },
     "metadata": {},
     "output_type": "display_data"
    }
   ],
   "source": [
    "sequence(List(Some(1), None, Some(4), None))"
   ]
  },
  {
   "cell_type": "markdown",
   "metadata": {},
   "source": [
    "<a id='section5'></a>"
   ]
  },
  {
   "cell_type": "markdown",
   "metadata": {},
   "source": [
    "### Exercise 4.5: traverse\n",
    "Implement this function. It’s straightforward to do using map and sequence, but try for a more efficient implementation that only looks at the list once. In fact, implement sequence in terms of traverse."
   ]
  },
  {
   "cell_type": "code",
   "execution_count": 73,
   "metadata": {
    "collapsed": false
   },
   "outputs": [
    {
     "data": {
      "text/plain": [
       "defined \u001b[32mfunction \u001b[36mtraverse\u001b[0m"
      ]
     },
     "metadata": {},
     "output_type": "display_data"
    }
   ],
   "source": [
    "def traverse[A,B](a: List[A])(f:A =>Option[B]): Option[List[B]] = {\n",
    "    //iterate through each value of list apply f and get the value in the option then convert the resulting list\n",
    "    //into an option list\n",
    "    Some(a.map(i => f(i).getOrElse(null.asInstanceOf[B])))\n",
    "}\n",
    "\n",
    "def sequenceT[A](a: List[Option[A]]) : Option[List[A]] = {\n",
    "    //same as sequence above but implemented using list\n",
    "    traverse(a)(b => b)\n",
    "}"
   ]
  },
  {
   "cell_type": "code",
   "execution_count": 135,
   "metadata": {
    "collapsed": false
   },
   "outputs": [
    {
     "data": {
      "text/plain": [
       "\u001b[36mres44\u001b[0m: \u001b[32mBoolean\u001b[0m = true"
      ]
     },
     "metadata": {},
     "output_type": "display_data"
    }
   ],
   "source": [
    "sequenceT(List(Some(1), None, Some(4), None))==sequence(List(Some(1), None, Some(4), None))"
   ]
  },
  {
   "cell_type": "markdown",
   "metadata": {},
   "source": [
    "<a id='section5.5'></a>"
   ]
  },
  {
   "cell_type": "markdown",
   "metadata": {},
   "source": [
    "### Either trait and Case Classes"
   ]
  },
  {
   "cell_type": "code",
   "execution_count": 82,
   "metadata": {
    "collapsed": false
   },
   "outputs": [
    {
     "data": {
      "text/plain": [
       "defined \u001b[32mtrait \u001b[36mEither\u001b[0m\n",
       "defined \u001b[32mclass \u001b[36mLeft\u001b[0m\n",
       "defined \u001b[32mclass \u001b[36mRight\u001b[0m"
      ]
     },
     "metadata": {},
     "output_type": "display_data"
    }
   ],
   "source": [
    "//given code for Either trait and its two accompanying case classes\n",
    "sealed trait Either[+E, +A]\n",
    "case class Left[+E](value: E) extends Either[E, Nothing]//meant for exceptions\n",
    "case class Right[+A](value: A) extends Either[Nothing, A]// meant for correct values"
   ]
  },
  {
   "cell_type": "markdown",
   "metadata": {},
   "source": [
    "<a id='section6'></a>"
   ]
  },
  {
   "cell_type": "markdown",
   "metadata": {},
   "source": [
    "### Exercise 4.6: Either\n",
    "Implement versions of map, flatMap, orElse, and map2 on Either that operate on the Right value."
   ]
  },
  {
   "cell_type": "code",
   "execution_count": 98,
   "metadata": {
    "collapsed": false
   },
   "outputs": [
    {
     "data": {
      "text/plain": [
       "defined \u001b[32mtrait \u001b[36mEither\u001b[0m\n",
       "defined \u001b[32mclass \u001b[36mLeft\u001b[0m\n",
       "defined \u001b[32mclass \u001b[36mRight\u001b[0m"
      ]
     },
     "metadata": {},
     "output_type": "display_data"
    }
   ],
   "source": [
    "trait Either[+E, +A]{\n",
    "    def map[B](f: A => B): Either[E, B] = {\n",
    "        //take instance of Either either return new exception if instance is an exception\n",
    "        //or if its a correct value it applies f to value and returns result wrapped in Right\n",
    "        this match {\n",
    "            case Left(e) => Left(e)\n",
    "            case Right(a) => Right(f(a))\n",
    "        \n",
    "        }\n",
    "    }\n",
    "    \n",
    "    def flatMap[EE >: E, B](f: A => Either[EE,B]):Either[EE,B]={\n",
    "        //take instance of Either either return new exception if instance is an exception\n",
    "        //or if its a correct value it applies f to value and returns result \n",
    "        this match{\n",
    "            case Left(e) => Left(e)\n",
    "            case Right(a) => f(a)\n",
    "        }\n",
    "    }\n",
    "    def orElse[EE >: E, B >: A](b: => Either[EE,B]): Either[EE, B] ={\n",
    "        //take instance of Either either return default value chosen by user\n",
    "        //or if its a correct value it returns a new Either with same value\n",
    "        this match {\n",
    "            case Left(e) => b\n",
    "            case Right(a) => Right(a)\n",
    "        }\n",
    "    }\n",
    "    \n",
    "    def map2[EE >: E, B, C](b: Either[EE,B])(f: (A,B) => C) : Either[EE,C] ={\n",
    "        //takes this instance and another instance of Either and a function that accepts two parameters\n",
    "        //of the two types wrapped in each respective Either instance\n",
    "        //applies f to the values of the two Eithers and returns the result wrapped in an Either\n",
    "        this.flatMap(a => b.map(bb => f(a,bb)))\n",
    "    }\n",
    "}\n",
    "case class Left[+E](value: E) extends Either[E, Nothing]\n",
    "case class Right[+A](value: A) extends Either[Nothing, A]"
   ]
  },
  {
   "cell_type": "code",
   "execution_count": 96,
   "metadata": {
    "collapsed": false
   },
   "outputs": [
    {
     "data": {
      "text/plain": [
       "\u001b[36mres33_0\u001b[0m: \u001b[32mEither\u001b[0m[\u001b[32mNothing\u001b[0m, \u001b[32mDouble\u001b[0m] = Right(Infinity)\n",
       "\u001b[36mres33_1\u001b[0m: \u001b[32mEither\u001b[0m[\u001b[32mNothing\u001b[0m, \u001b[32mDouble\u001b[0m] = Right(Infinity)"
      ]
     },
     "metadata": {},
     "output_type": "display_data"
    }
   ],
   "source": [
    "Right(0)map(1.0/_)\n",
    "Right(0)flatMap(a => Right(1.0/a))"
   ]
  },
  {
   "cell_type": "code",
   "execution_count": 105,
   "metadata": {
    "collapsed": false
   },
   "outputs": [
    {
     "data": {
      "text/plain": [
       "\u001b[36mres36\u001b[0m: \u001b[32mEither\u001b[0m[\u001b[32mNothing\u001b[0m, \u001b[32mInt\u001b[0m] = Right(5)"
      ]
     },
     "metadata": {},
     "output_type": "display_data"
    }
   ],
   "source": [
    "Right(1).map2(Right(4))((a,b) => a+b)"
   ]
  },
  {
   "cell_type": "markdown",
   "metadata": {},
   "source": [
    "<a id='section7'></a>"
   ]
  },
  {
   "cell_type": "markdown",
   "metadata": {},
   "source": [
    "### Exercise 4.7: Either sequence and traverse\n",
    "Implement sequence and traverse for Either. These should return the first error that’s encountered, if there is one."
   ]
  },
  {
   "cell_type": "code",
   "execution_count": 133,
   "metadata": {
    "collapsed": false
   },
   "outputs": [
    {
     "data": {
      "text/plain": [
       "defined \u001b[32mfunction \u001b[36mtraverseE\u001b[0m"
      ]
     },
     "metadata": {},
     "output_type": "display_data"
    }
   ],
   "source": [
    "def traverseE[E,A,B](es: List[A])(f: A => Either[E,B]): Either[E,List[B]] = {\n",
    "    //same as traverse above except using Either instead of option\n",
    "    Right(es.map(i => f(i) match {\n",
    "        case Left(e) => null.asInstanceOf[B]\n",
    "        case Right(a) => a\n",
    "    }))\n",
    "}"
   ]
  },
  {
   "cell_type": "code",
   "execution_count": 134,
   "metadata": {
    "collapsed": false
   },
   "outputs": [
    {
     "data": {
      "text/plain": [
       "defined \u001b[32mfunction \u001b[36msequenceET\u001b[0m"
      ]
     },
     "metadata": {},
     "output_type": "display_data"
    }
   ],
   "source": [
    "def sequenceET[E,A](es: List[Either[E,A]]):Either[E,List[A]] = {\n",
    "    //same as sequence above except using Either instead of Option\n",
    "    traverseE(es)(a => a)\n",
    "}"
   ]
  },
  {
   "cell_type": "code",
   "execution_count": 138,
   "metadata": {
    "collapsed": false
   },
   "outputs": [
    {
     "data": {
      "text/plain": [
       "\u001b[36mres46\u001b[0m: \u001b[32mEither\u001b[0m[\u001b[32mString\u001b[0m, \u001b[32mList\u001b[0m[\u001b[32mInt\u001b[0m]] = Right(List(1, null, 4, null))"
      ]
     },
     "metadata": {},
     "output_type": "display_data"
    }
   ],
   "source": [
    "sequenceET(List(Right(1), Left(\"wrong\"), Right(4), Left(\"wrong\")))"
   ]
  },
  {
   "cell_type": "markdown",
   "metadata": {},
   "source": [
    "<a id='section8'></a>"
   ]
  },
  {
   "cell_type": "markdown",
   "metadata": {},
   "source": [
    "### Exercise 4.8: question about given code\n",
    "In this implementation, map2 is only able to report one error, even if both the name and the age are invalid. What would you need to change in order to report both errors? Would you change map2 or the signature of mkPerson? Or could you create a new data type that captures this requirement better than Either does, with some additional structure? How would orElse, traverse, and sequence behave differently for that data type?"
   ]
  },
  {
   "cell_type": "code",
   "execution_count": null,
   "metadata": {
    "collapsed": true
   },
   "outputs": [],
   "source": [
    "//given code question 4.8 is refrencing\n",
    "case class Person(name: Name, age: Age)\n",
    "sealed class Name(val value: String)\n",
    "sealed class Age(val value: Int)\n",
    "\n",
    "def mkName(name: String): Either[String, Name] = \n",
    "  if (name == \"\" || name == null) Left(\"Name is empty.\")\n",
    "  else Right(new Name(name))\n",
    "\n",
    "def mkAge(age: Int): Either[String, Age] =\n",
    "  if (age < 0) Left(\"Age is out of range.\")\n",
    "  else Right(new Age(age))\n",
    "\n",
    "def mkPerson(name: String, age: Int): Either[String, Person] =\n",
    "  mkName(name).map2(mkAge(age))(Person(_, _))"
   ]
  },
  {
   "cell_type": "markdown",
   "metadata": {},
   "source": [
    "** Answer:** I think a new data type would have to be created to handle the possibility of multiple errors.  I think for all three there would need to be additional case classes to allow for the multiple types of Exceptions that could have occured."
   ]
  },
  {
   "cell_type": "code",
   "execution_count": null,
   "metadata": {
    "collapsed": true
   },
   "outputs": [],
   "source": []
  }
 ],
 "metadata": {
  "kernelspec": {
   "display_name": "Scala 2.11",
   "language": "scala211",
   "name": "scala211"
  },
  "language_info": {
   "codemirror_mode": "text/x-scala",
   "file_extension": ".scala",
   "mimetype": "text/x-scala",
   "name": "scala211",
   "pygments_lexer": "scala",
   "version": "2.11.6"
  }
 },
 "nbformat": 4,
 "nbformat_minor": 0
}
