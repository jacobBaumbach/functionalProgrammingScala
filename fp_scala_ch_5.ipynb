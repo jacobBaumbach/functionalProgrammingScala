{
 "cells": [
  {
   "cell_type": "markdown",
   "metadata": {},
   "source": [
    "# Functional Programming in Scala Chapter 5"
   ]
  },
  {
   "cell_type": "markdown",
   "metadata": {},
   "source": [
    "## Table of Contents\n",
    "- [Stream Trait, Object, and Case Classes](#section0)\n",
    "- [Exercise 5.1: toList](#section1)\n",
    "- [Exercise 5.2: take and drop](#section2)\n",
    "- [Exercise 5.3: takeWhile](#section3)\n",
    "- [Exercise 5.4: forAll](#section4)\n",
    "- [Exercise 5.5: foldRight and takeWhile](#section5)\n",
    "- [Exercise 5.6: headOption](#section6)\n",
    "- [Exercise 5.7: map, filter, append, and flatMap](#section7)\n",
    "- [Exercise 5.8: infinite constant](#section8)\n",
    "- [Exercise 5.9: infinite increase](#section9)\n",
    "- [Exercise 5.10: fibonacci Infinite Sequence](#section10)\n",
    "- [Exercise 5.11: unfold](#section11)\n",
    "- [Exercise 5.12 : rewrite using unfold](#section12)\n",
    "- [Exercise 5.13: rewrites using unfold round 2](#section13)\n",
    "- [Exercise 5.14: startsWith](#section14)\n",
    "- [Exercise 5.15: tails using unfold](#section15)\n",
    "- [Exercise 5.16: scanRight](#section16)"
   ]
  },
  {
   "cell_type": "markdown",
   "metadata": {},
   "source": [
    "<a id='section0'></a>"
   ]
  },
  {
   "cell_type": "markdown",
   "metadata": {},
   "source": [
    "### Stream Trait, Object, and Case Classes"
   ]
  },
  {
   "cell_type": "code",
   "execution_count": 2,
   "metadata": {
    "collapsed": false
   },
   "outputs": [
    {
     "data": {
      "text/plain": [
       "defined \u001b[32mtrait \u001b[36mStream\u001b[0m\n",
       "defined \u001b[32mobject \u001b[36mEmpty\u001b[0m\n",
       "defined \u001b[32mclass \u001b[36mCons\u001b[0m\n",
       "defined \u001b[32mobject \u001b[36mStream\u001b[0m"
      ]
     },
     "metadata": {},
     "output_type": "display_data"
    }
   ],
   "source": [
    "//here is the code provided by the author used in all the exercises below\n",
    "\n",
    "sealed trait Stream[+A]//create stream trait\n",
    "case object Empty extends Stream[Nothing]// generate empty Stream element\n",
    "case class Cons[+A](h: () => A, t: () => Stream[A]) extends Stream[A]//generate nonempty Stream element\n",
    "\n",
    "object Stream{\n",
    "    def cons[A](hd: => A, tl: => Stream[A]):Stream[A] = {//lazy constructor of Stream\n",
    "        lazy val head = hd\n",
    "        lazy val tail = tl\n",
    "        Cons(() => head, () => tail)\n",
    "    }\n",
    "    def empty[A]: Stream[A] = Empty//generate empty stream\n",
    "    \n",
    "    def apply[A](as: A*): Stream[A] = {//apply method for stream that calls the lazy constructor\n",
    "        if(as.isEmpty) Empty\n",
    "        else cons(as.head,apply(as.tail:_*))\n",
    "    }\n",
    "}"
   ]
  },
  {
   "cell_type": "markdown",
   "metadata": {},
   "source": [
    "<a id='section1'></a>"
   ]
  },
  {
   "cell_type": "markdown",
   "metadata": {},
   "source": [
    "### Exercise 5.1: toList\n",
    "Write a function to convert a Stream to a List, which will force its evaluation and let you look at it in the REPL. You can convert to the regular List type in the standard library. You can place this and other functions that operate on a Stream inside the Stream trait."
   ]
  },
  {
   "cell_type": "code",
   "execution_count": 6,
   "metadata": {
    "collapsed": false
   },
   "outputs": [
    {
     "data": {
      "text/plain": [
       "defined \u001b[32mfunction \u001b[36mtoList\u001b[0m"
      ]
     },
     "metadata": {},
     "output_type": "display_data"
    }
   ],
   "source": [
    "def toList[A](strm: Stream[A]): List[A] = {\n",
    "    //use tail recursion to convert a stream to a list\n",
    "    def go(iterStrm: Stream[A], acc: List[A]): List[A] ={//iterator that produces a list\n",
    "        iterStrm match{//patteren matching for stream\n",
    "            case Empty => acc//return list when iterate through all elements\n",
    "            case Cons(h,t) => go(t(),acc++List(h()))//add head to list and iterate through the remaining elements of stream\n",
    "        }\n",
    "    }\n",
    "    go(strm,List())\n",
    "}"
   ]
  },
  {
   "cell_type": "code",
   "execution_count": 4,
   "metadata": {
    "collapsed": false
   },
   "outputs": [
    {
     "data": {
      "text/plain": [
       "\u001b[36mres2\u001b[0m: \u001b[32mList\u001b[0m[\u001b[32mInt\u001b[0m] = \u001b[33mList\u001b[0m(\u001b[32m1\u001b[0m, \u001b[32m2\u001b[0m, \u001b[32m3\u001b[0m, \u001b[32m4\u001b[0m)"
      ]
     },
     "metadata": {},
     "output_type": "display_data"
    }
   ],
   "source": [
    "toList(Stream(1,2,3,4))"
   ]
  },
  {
   "cell_type": "markdown",
   "metadata": {},
   "source": [
    "<a id='section2'></a>"
   ]
  },
  {
   "cell_type": "markdown",
   "metadata": {},
   "source": [
    "### Exercise 5.2: take and drop\n",
    "Write the function take(n) for returning the first n elements of a Stream, and drop(n) for skipping the first n elements of a Stream."
   ]
  },
  {
   "cell_type": "code",
   "execution_count": 4,
   "metadata": {
    "collapsed": false
   },
   "outputs": [
    {
     "data": {
      "text/plain": [
       "defined \u001b[32mfunction \u001b[36mtake\u001b[0m"
      ]
     },
     "metadata": {},
     "output_type": "display_data"
    }
   ],
   "source": [
    "def take[A](strm : Stream[A], n: Int): Stream[A] = {//way to take the first n elements from a stream\n",
    "    def go(iterStrm: Stream[A], acc:Int): Stream[A]={//iterate through stream and take first n elements\n",
    "        if(acc==n) Empty//if we have added the n elements then stop iteration\n",
    "        else iterStrm match{//if have not reached n elements then pattern match\n",
    "            case Empty => Empty//stream is empty stop iteration\n",
    "            case Cons(h,t) => Stream.cons(h(),go(t(),acc+1))//else add the head to the stream and keep iterating\n",
    "        }\n",
    "    }\n",
    "    go(strm,0)\n",
    "}"
   ]
  },
  {
   "cell_type": "code",
   "execution_count": 6,
   "metadata": {
    "collapsed": false
   },
   "outputs": [
    {
     "data": {
      "text/plain": [
       "\u001b[36mres4\u001b[0m: \u001b[32mList\u001b[0m[\u001b[32mInt\u001b[0m] = \u001b[33mList\u001b[0m(\u001b[32m1\u001b[0m, \u001b[32m2\u001b[0m)"
      ]
     },
     "metadata": {},
     "output_type": "display_data"
    }
   ],
   "source": [
    "toList(take(Stream(1,2,3,4),2))"
   ]
  },
  {
   "cell_type": "code",
   "execution_count": 7,
   "metadata": {
    "collapsed": false
   },
   "outputs": [
    {
     "data": {
      "text/plain": [
       "defined \u001b[32mfunction \u001b[36mdrop\u001b[0m"
      ]
     },
     "metadata": {},
     "output_type": "display_data"
    }
   ],
   "source": [
    "def drop[A](strm: Stream[A], n: Int): Stream[A] = {//drop the first n elements from a stream\n",
    "    def go(iterStrm: Stream[A], acc: Int): Stream[A] = {//iterate through stream\n",
    "        if(acc==n) iterStrm//if we have dropped n elements then return remaining stream\n",
    "        else iterStrm match{//haven't dropped n elements yet keep iterating\n",
    "            case Empty => Empty//stream is empty then stop iteration\n",
    "            case Cons(h,t) => go(t(),acc+1)//else drop the head and keep iterating\n",
    "        }\n",
    "    }\n",
    "    go(strm,0)\n",
    "}"
   ]
  },
  {
   "cell_type": "code",
   "execution_count": 8,
   "metadata": {
    "collapsed": false
   },
   "outputs": [
    {
     "ename": "",
     "evalue": "",
     "output_type": "error",
     "traceback": [
      "Compilation Failed",
      "\u001b[31mMain.scala:67: not found: value a",
      "toList(drop(a,2))",
      "            ^\u001b[0m"
     ]
    }
   ],
   "source": [
    "toList(drop(a,2))"
   ]
  },
  {
   "cell_type": "markdown",
   "metadata": {},
   "source": [
    "<a id='section3'></a>"
   ]
  },
  {
   "cell_type": "markdown",
   "metadata": {},
   "source": [
    "### Exercise 5.3: takeWhile\n",
    "Write the function takeWhile for returning all starting elements of a Stream that match the given predicate."
   ]
  },
  {
   "cell_type": "code",
   "execution_count": 9,
   "metadata": {
    "collapsed": false
   },
   "outputs": [
    {
     "data": {
      "text/plain": [
       "defined \u001b[32mfunction \u001b[36mtakeWhile\u001b[0m"
      ]
     },
     "metadata": {},
     "output_type": "display_data"
    }
   ],
   "source": [
    "def takeWhile[A](strm:Stream[A])(f: A => Boolean): Stream[A] ={//keep adding the first elements in a stream to a new stream\n",
    "    //until f evaluates to false\n",
    "    def go(iterStrm: Stream[A]): Stream[A] ={//iterate through stream\n",
    "        iterStrm match{//pattern match on stream\n",
    "            case Empty => Empty//empty stream then return empty stream\n",
    "            case Cons(h,t) => {//non empty stream\n",
    "                if(f(h())) Stream.cons(h(),go(t()))//head evaluates to true add to stream\n",
    "                else Empty//otherwise stop iteration and return empty stream\n",
    "            }\n",
    "        }\n",
    "    }\n",
    "    go(strm)\n",
    "}"
   ]
  },
  {
   "cell_type": "code",
   "execution_count": 10,
   "metadata": {
    "collapsed": false
   },
   "outputs": [
    {
     "data": {
      "text/plain": [
       "\u001b[36mres7\u001b[0m: \u001b[32mList\u001b[0m[\u001b[32mInt\u001b[0m] = \u001b[33mList\u001b[0m(\u001b[32m1\u001b[0m)"
      ]
     },
     "metadata": {},
     "output_type": "display_data"
    }
   ],
   "source": [
    "toList(takeWhile(Stream(1,2,3,4))(_%2==1))"
   ]
  },
  {
   "cell_type": "markdown",
   "metadata": {},
   "source": [
    "<a id='section4'></a>"
   ]
  },
  {
   "cell_type": "markdown",
   "metadata": {},
   "source": [
    "### Exercise 5.4: forAll\n",
    "Implement forAll, which checks that all elements in the Stream match a given predicate. Your implementation should terminate the traversal as soon as it encounters a nonmatching value."
   ]
  },
  {
   "cell_type": "code",
   "execution_count": 11,
   "metadata": {
    "collapsed": false
   },
   "outputs": [
    {
     "data": {
      "text/plain": [
       "defined \u001b[32mfunction \u001b[36mforAll\u001b[0m"
      ]
     },
     "metadata": {},
     "output_type": "display_data"
    }
   ],
   "source": [
    "def forAll[A](strm:Stream[A])(f: A => Boolean): Boolean ={//see if f evaluates true for every element in a stream\n",
    "    strm match{//pattern match on stream\n",
    "        case Empty => true//empty element in a stream automatically evaluates to true\n",
    "        case Cons(h,t) => f(h()) && forAll(t())(f)//apply f to the head apply the and operator and keep iterator\n",
    "                                                  //as soon as hit a false the iteration will stop\n",
    "    }\n",
    "}"
   ]
  },
  {
   "cell_type": "code",
   "execution_count": 12,
   "metadata": {
    "collapsed": false
   },
   "outputs": [
    {
     "name": "stdout",
     "output_type": "stream",
     "text": [
      "2\n",
      "4\n",
      "1\n"
     ]
    },
    {
     "data": {
      "text/plain": [
       "\u001b[36mres9\u001b[0m: \u001b[32mBoolean\u001b[0m = false"
      ]
     },
     "metadata": {},
     "output_type": "display_data"
    }
   ],
   "source": [
    "forAll(Stream(2,4,1,8))({i => println(i); i%2==0})"
   ]
  },
  {
   "cell_type": "markdown",
   "metadata": {},
   "source": [
    "<a id='section5'></a>"
   ]
  },
  {
   "cell_type": "markdown",
   "metadata": {},
   "source": [
    "### Exercise 5.5: foldRight and takeWhile\n",
    "Use foldRight to implement takeWhile."
   ]
  },
  {
   "cell_type": "code",
   "execution_count": 3,
   "metadata": {
    "collapsed": false
   },
   "outputs": [
    {
     "data": {
      "text/plain": [
       "defined \u001b[32mfunction \u001b[36mfoldRight\u001b[0m"
      ]
     },
     "metadata": {},
     "output_type": "display_data"
    }
   ],
   "source": [
    "def foldRight[A,B](strm: Stream[A], z: => B)(f:(A, => B) => B): B ={//recusively apply f to every element of a stream\n",
    "    //and a base accumulator value(lazily)  though f will not return a value until it reaches the last element of a stream\n",
    "    //and that value becomes the new accumulator value passed to the second to last element and this process continues until\n",
    "    //we reach the head of the stream where finally the result of applying f to every element is returned\n",
    "    strm match{//pattern match on stream\n",
    "        case Empty => z//if stream is empty then return base value\n",
    "        case Cons(h,t) => f(h(),foldRight(t(),z)(f))//else apply f to the head of the stream and the accumulative result \n",
    "        //of applying f to the remaining elements of the stream and the base value z\n",
    "    }\n",
    "}"
   ]
  },
  {
   "cell_type": "code",
   "execution_count": 14,
   "metadata": {
    "collapsed": false
   },
   "outputs": [
    {
     "data": {
      "text/plain": [
       "defined \u001b[32mfunction \u001b[36mtakeWhile\u001b[0m"
      ]
     },
     "metadata": {},
     "output_type": "display_data"
    }
   ],
   "source": [
    "def takeWhile[A](strm:Stream[A])(f:A => Boolean): Stream[A] ={//same takeWhile as above but uses foldRight\n",
    "    foldRight(strm,Empty: Stream[A])((a, b) => if(f(a)) Stream.cons(a,b) else Empty)\n",
    "}"
   ]
  },
  {
   "cell_type": "code",
   "execution_count": 15,
   "metadata": {
    "collapsed": false
   },
   "outputs": [
    {
     "data": {
      "text/plain": [
       "\u001b[36mres12\u001b[0m: \u001b[32mList\u001b[0m[\u001b[32mInt\u001b[0m] = \u001b[33mList\u001b[0m(\u001b[32m1\u001b[0m)"
      ]
     },
     "metadata": {},
     "output_type": "display_data"
    }
   ],
   "source": [
    "toList(takeWhile(Stream(1,2,3,4))(_%2==1))"
   ]
  },
  {
   "cell_type": "code",
   "execution_count": 16,
   "metadata": {
    "collapsed": false
   },
   "outputs": [
    {
     "data": {
      "text/plain": [
       "defined \u001b[32mfunction \u001b[36mforAllfr\u001b[0m"
      ]
     },
     "metadata": {},
     "output_type": "display_data"
    }
   ],
   "source": [
    "def forAllfr[A](strm: Stream[A])(f: A => Boolean): Boolean = {//same forAll as above but uses fold right\n",
    "    foldRight(strm,true)((a,b) => f(a)&&b)\n",
    "}"
   ]
  },
  {
   "cell_type": "code",
   "execution_count": 17,
   "metadata": {
    "collapsed": false
   },
   "outputs": [
    {
     "name": "stdout",
     "output_type": "stream",
     "text": [
      "2\n",
      "4\n",
      "1\n"
     ]
    },
    {
     "data": {
      "text/plain": [
       "\u001b[36mres14\u001b[0m: \u001b[32mBoolean\u001b[0m = false"
      ]
     },
     "metadata": {},
     "output_type": "display_data"
    }
   ],
   "source": [
    "forAllfr(Stream(2,4,1,8))({i => println(i); i%2==0})"
   ]
  },
  {
   "cell_type": "markdown",
   "metadata": {},
   "source": [
    "<a id='section6'></a>"
   ]
  },
  {
   "cell_type": "markdown",
   "metadata": {},
   "source": [
    "###  Exercise 5.6: headOption\n",
    "Hard: Implement headOption using foldRight."
   ]
  },
  {
   "cell_type": "code",
   "execution_count": 18,
   "metadata": {
    "collapsed": false
   },
   "outputs": [
    {
     "data": {
      "text/plain": [
       "defined \u001b[32mfunction \u001b[36mheadOption\u001b[0m"
      ]
     },
     "metadata": {},
     "output_type": "display_data"
    }
   ],
   "source": [
    "def headOption[A](strm: Stream[A]): Option[A] ={//returns the head of a stream as an option using foldRight\n",
    "    foldRight(strm, None:Option[A])((a,b) => a match{\n",
    "        case a => Some(a)\n",
    "        case _ => b\n",
    "    })//base value is None, we look at the head and if it exists we wrap it in a option and return it otherwise return\n",
    "    //the base value None\n",
    "}"
   ]
  },
  {
   "cell_type": "code",
   "execution_count": 19,
   "metadata": {
    "collapsed": false
   },
   "outputs": [
    {
     "data": {
      "text/plain": [
       "\u001b[36mres16_0\u001b[0m: \u001b[32mOption\u001b[0m[\u001b[32mInt\u001b[0m] = Some(1)\n",
       "\u001b[36mres16_1\u001b[0m: \u001b[32mOption\u001b[0m[\u001b[32mNothing\u001b[0m] = None"
      ]
     },
     "metadata": {},
     "output_type": "display_data"
    }
   ],
   "source": [
    "headOption(Stream(1,2,3,4,5,6))\n",
    "headOption(Empty)"
   ]
  },
  {
   "cell_type": "markdown",
   "metadata": {},
   "source": [
    "<a id='section7'></a>"
   ]
  },
  {
   "cell_type": "markdown",
   "metadata": {},
   "source": [
    "### Exercise 5.7: map, filter, append, and flatMap\n",
    "Implement map, filter, append, and flatMap using foldRight. The append method should be non-strict in its argument."
   ]
  },
  {
   "cell_type": "code",
   "execution_count": 20,
   "metadata": {
    "collapsed": false
   },
   "outputs": [
    {
     "data": {
      "text/plain": [
       "defined \u001b[32mfunction \u001b[36mmap\u001b[0m"
      ]
     },
     "metadata": {},
     "output_type": "display_data"
    }
   ],
   "source": [
    "def map[A,B](strm: Stream[A])(f:(=>A) => B):Stream[B] = {//lazily apply f to every element of a stream\n",
    "    foldRight(strm,Empty:Stream[B])((a,b) => Stream.cons(f(a),b))//use foldRight, base value is an empty stream\n",
    "    //for every element apply f and add it to the new stream\n",
    "}"
   ]
  },
  {
   "cell_type": "code",
   "execution_count": 21,
   "metadata": {
    "collapsed": false
   },
   "outputs": [
    {
     "data": {
      "text/plain": [
       "defined \u001b[32mfunction \u001b[36mfilter\u001b[0m"
      ]
     },
     "metadata": {},
     "output_type": "display_data"
    }
   ],
   "source": [
    "def filter[A](strm: Stream[A])(f:(=>A) => Boolean):Stream[A] = {//lazily apply f to every element of stream and only\n",
    "    //keep the elements that evaluate to true in the new stream \n",
    "    //uses foldRight\n",
    "    foldRight(strm,Empty:Stream[A])((a,b) => if(f(a)) Stream.cons(a,b) else b)\n",
    "}"
   ]
  },
  {
   "cell_type": "code",
   "execution_count": 22,
   "metadata": {
    "collapsed": false
   },
   "outputs": [
    {
     "data": {
      "text/plain": [
       "defined \u001b[32mfunction \u001b[36mappend\u001b[0m"
      ]
     },
     "metadata": {},
     "output_type": "display_data"
    }
   ],
   "source": [
    "def append[A](strm:Stream[A],strm2: Stream[A]): Stream[A] = {//take two streams and convert to one stream\n",
    "    //uses foldRight where the base value is strm2\n",
    "    foldRight(strm,strm2)((a,b) => Stream.cons(a,b))\n",
    "}"
   ]
  },
  {
   "cell_type": "code",
   "execution_count": 23,
   "metadata": {
    "collapsed": false
   },
   "outputs": [
    {
     "data": {
      "text/plain": [
       "defined \u001b[32mfunction \u001b[36mflatMap\u001b[0m"
      ]
     },
     "metadata": {},
     "output_type": "display_data"
    }
   ],
   "source": [
    "def flatMap[A,B](strm: Stream[A])(f:A =>Stream[B]):Stream[B] ={\n",
    "    //same as map except f returns a stream of B as opposed to B\n",
    "    //also append is used in the function passed to foldRight to concatenate all the streams outputed by f\n",
    "    foldRight(strm,Empty:Stream[B])((a,b)=> append(f(a),b))\n",
    "}"
   ]
  },
  {
   "cell_type": "code",
   "execution_count": 24,
   "metadata": {
    "collapsed": false
   },
   "outputs": [
    {
     "data": {
      "text/plain": [
       "\u001b[36mres21\u001b[0m: \u001b[32mList\u001b[0m[\u001b[32mInt\u001b[0m] = \u001b[33mList\u001b[0m(\u001b[32m1\u001b[0m, \u001b[32m2\u001b[0m, \u001b[32m3\u001b[0m, \u001b[32m4\u001b[0m, \u001b[32m5\u001b[0m, \u001b[32m6\u001b[0m)"
      ]
     },
     "metadata": {},
     "output_type": "display_data"
    }
   ],
   "source": [
    "toList(append(Stream(1,2,3),Stream(4,5,6)))"
   ]
  },
  {
   "cell_type": "code",
   "execution_count": 25,
   "metadata": {
    "collapsed": false
   },
   "outputs": [
    {
     "data": {
      "text/plain": [
       "\u001b[36mres22\u001b[0m: \u001b[32mList\u001b[0m[\u001b[32mInt\u001b[0m] = \u001b[33mList\u001b[0m(\u001b[32m2\u001b[0m)"
      ]
     },
     "metadata": {},
     "output_type": "display_data"
    }
   ],
   "source": [
    "toList(filter(Stream(1,2,3))(_%2==0))"
   ]
  },
  {
   "cell_type": "code",
   "execution_count": 26,
   "metadata": {
    "collapsed": false
   },
   "outputs": [
    {
     "data": {
      "text/plain": [
       "\u001b[36mres23\u001b[0m: \u001b[32mList\u001b[0m[\u001b[32mInt\u001b[0m] = \u001b[33mList\u001b[0m(\u001b[32m2\u001b[0m, \u001b[32m4\u001b[0m, \u001b[32m6\u001b[0m, \u001b[32m8\u001b[0m, \u001b[32m10\u001b[0m, \u001b[32m12\u001b[0m)"
      ]
     },
     "metadata": {},
     "output_type": "display_data"
    }
   ],
   "source": [
    "toList(flatMap(Stream(Stream(1,2,3),Stream(4,5,6)))(i => map(i)(_*2)))"
   ]
  },
  {
   "cell_type": "markdown",
   "metadata": {},
   "source": [
    "<a id='section8'></a>"
   ]
  },
  {
   "cell_type": "markdown",
   "metadata": {},
   "source": [
    "### Exercise 5.8: infinite constant\n",
    "Generalize ones slightly to the function constant, which returns an infinite Stream of a given value."
   ]
  },
  {
   "cell_type": "code",
   "execution_count": 27,
   "metadata": {
    "collapsed": false
   },
   "outputs": [
    {
     "data": {
      "text/plain": [
       "defined \u001b[32mfunction \u001b[36mconstants\u001b[0m"
      ]
     },
     "metadata": {},
     "output_type": "display_data"
    }
   ],
   "source": [
    "def constants[A](a: A):Stream[A] ={\n",
    "    //generates an infinite stream of value passed\n",
    "    //since cons is a lazy constructor none of the infinite values are generted until called upon\n",
    "    Stream.cons(a,constants(a))\n",
    "}"
   ]
  },
  {
   "cell_type": "code",
   "execution_count": 28,
   "metadata": {
    "collapsed": false
   },
   "outputs": [
    {
     "data": {
      "text/plain": [
       "\u001b[36maa\u001b[0m: \u001b[32mStream\u001b[0m[\u001b[32mInt\u001b[0m] = Cons(<function0>,<function0>)"
      ]
     },
     "metadata": {},
     "output_type": "display_data"
    }
   ],
   "source": [
    "val aa = constants(2)"
   ]
  },
  {
   "cell_type": "code",
   "execution_count": 29,
   "metadata": {
    "collapsed": false
   },
   "outputs": [
    {
     "data": {
      "text/plain": [
       "\u001b[36mres26_0\u001b[0m: \u001b[32mBoolean\u001b[0m = false\n",
       "\u001b[36mres26_1\u001b[0m: \u001b[32mStream\u001b[0m[\u001b[32mInt\u001b[0m] = Cons(<function0>,<function0>)\n",
       "\u001b[36mres26_2\u001b[0m: \u001b[32mList\u001b[0m[\u001b[32mInt\u001b[0m] = \u001b[33mList\u001b[0m(\u001b[32m2\u001b[0m, \u001b[32m2\u001b[0m, \u001b[32m2\u001b[0m, \u001b[32m2\u001b[0m)"
      ]
     },
     "metadata": {},
     "output_type": "display_data"
    }
   ],
   "source": [
    "forAll(aa)(_%2==1)\n",
    "takeWhile(aa)(_==2)\n",
    "toList(take(aa,4))"
   ]
  },
  {
   "cell_type": "markdown",
   "metadata": {},
   "source": [
    "<a id='section9'></a>"
   ]
  },
  {
   "cell_type": "markdown",
   "metadata": {},
   "source": [
    "### Exercise 5.9: infinite increase\n",
    "Write a function that generates an infinite stream of integers, starting from n, then n + 1, n + 2, and so on."
   ]
  },
  {
   "cell_type": "code",
   "execution_count": 30,
   "metadata": {
    "collapsed": false
   },
   "outputs": [
    {
     "data": {
      "text/plain": [
       "defined \u001b[32mfunction \u001b[36mfrom\u001b[0m"
      ]
     },
     "metadata": {},
     "output_type": "display_data"
    }
   ],
   "source": [
    "def from(n:Int): Stream[Int] ={\n",
    "    //generate infinite stream of integers starting with n and each proceeding value after the head is one greater\n",
    "    //since cons is a lazy constructor none of the infinite values are generated until called upon\n",
    "    Stream.cons(n,from(n+1))\n",
    "}"
   ]
  },
  {
   "cell_type": "code",
   "execution_count": 31,
   "metadata": {
    "collapsed": false
   },
   "outputs": [
    {
     "data": {
      "text/plain": [
       "\u001b[36mres28\u001b[0m: \u001b[32mList\u001b[0m[\u001b[32mInt\u001b[0m] = \u001b[33mList\u001b[0m(\n",
       "  \u001b[32m4\u001b[0m,\n",
       "  \u001b[32m5\u001b[0m,\n",
       "  \u001b[32m6\u001b[0m,\n",
       "  \u001b[32m7\u001b[0m,\n",
       "  \u001b[32m8\u001b[0m,\n",
       "  \u001b[32m9\u001b[0m,\n",
       "  \u001b[32m10\u001b[0m,\n",
       "  \u001b[32m11\u001b[0m,\n",
       "  \u001b[32m12\u001b[0m,\n",
       "  \u001b[32m13\u001b[0m\n",
       ")"
      ]
     },
     "metadata": {},
     "output_type": "display_data"
    }
   ],
   "source": [
    "toList(take(from(4),10))"
   ]
  },
  {
   "cell_type": "markdown",
   "metadata": {},
   "source": [
    "<a id='section10'></a>"
   ]
  },
  {
   "cell_type": "markdown",
   "metadata": {},
   "source": [
    "### Exercise 5.10: fibonacci Infinite Sequence\n",
    "Write a function fibs that generates the infinite stream of Fibonacci numbers: 0, 1, 1, 2, 3, 5, 8, and so on."
   ]
  },
  {
   "cell_type": "code",
   "execution_count": 32,
   "metadata": {
    "collapsed": false
   },
   "outputs": [
    {
     "data": {
      "text/plain": [
       "defined \u001b[32mfunction \u001b[36mfibInf\u001b[0m"
      ]
     },
     "metadata": {},
     "output_type": "display_data"
    }
   ],
   "source": [
    "def fibInf : Stream[Int] = {\n",
    "    //generate infinte stream of fibonacci sequence\n",
    "    def go(n: Int,n1: Int): Stream[Int] ={\n",
    "        Stream.cons(n,go(n1,n+n1))\n",
    "    }\n",
    "    go(0,1)\n",
    "}"
   ]
  },
  {
   "cell_type": "code",
   "execution_count": 33,
   "metadata": {
    "collapsed": false
   },
   "outputs": [
    {
     "data": {
      "text/plain": [
       "\u001b[36mres30\u001b[0m: \u001b[32mList\u001b[0m[\u001b[32mInt\u001b[0m] = \u001b[33mList\u001b[0m(\n",
       "  \u001b[32m0\u001b[0m,\n",
       "  \u001b[32m1\u001b[0m,\n",
       "  \u001b[32m1\u001b[0m,\n",
       "  \u001b[32m2\u001b[0m,\n",
       "  \u001b[32m3\u001b[0m,\n",
       "  \u001b[32m5\u001b[0m,\n",
       "  \u001b[32m8\u001b[0m,\n",
       "  \u001b[32m13\u001b[0m,\n",
       "  \u001b[32m21\u001b[0m,\n",
       "  \u001b[32m34\u001b[0m\n",
       ")"
      ]
     },
     "metadata": {},
     "output_type": "display_data"
    }
   ],
   "source": [
    "toList(take(fibInf,10))"
   ]
  },
  {
   "cell_type": "markdown",
   "metadata": {},
   "source": [
    "<a id='section11'></a>"
   ]
  },
  {
   "cell_type": "markdown",
   "metadata": {},
   "source": [
    "### Exercise 5.11: unfold\n",
    "Write a more general stream-building function called unfold. It takes an initial state, and a function for producing both the next state and the next value in the generated stream."
   ]
  },
  {
   "cell_type": "code",
   "execution_count": 34,
   "metadata": {
    "collapsed": false
   },
   "outputs": [
    {
     "data": {
      "text/plain": [
       "defined \u001b[32mfunction \u001b[36munfold\u001b[0m"
      ]
     },
     "metadata": {},
     "output_type": "display_data"
    }
   ],
   "source": [
    "def unfold[A,S](z:S)(f:S => Option[(A,S)]): Stream[A] = {//build a stream given an initial starting value and a function\n",
    "    //to generate the next element\n",
    "    f(z) match{//pattern match on the output of f\n",
    "        case Some((h,t)) => Stream.cons(h, unfold(t)(f))//if the output is nonempty add the e output to the new stream\n",
    "        //and keep iterating\n",
    "        case None => Empty//hit an exception stop iterating return empty stream\n",
    "    }\n",
    "}"
   ]
  },
  {
   "cell_type": "markdown",
   "metadata": {},
   "source": [
    "<a id='section12'></a>"
   ]
  },
  {
   "cell_type": "markdown",
   "metadata": {},
   "source": [
    "### Exercise 5.12 : rewrite using unfold\n",
    "Write fibs, from, constant, and ones in terms of unfold."
   ]
  },
  {
   "cell_type": "code",
   "execution_count": 35,
   "metadata": {
    "collapsed": false
   },
   "outputs": [
    {
     "data": {
      "text/plain": [
       "\u001b[36monesUF\u001b[0m: \u001b[32mStream\u001b[0m[\u001b[32mInt\u001b[0m] = Cons(<function0>,<function0>)"
      ]
     },
     "metadata": {},
     "output_type": "display_data"
    }
   ],
   "source": [
    "val onesUF: Stream[Int] = unfold(1)(a => Some(1,1))//infinite stream of ones using unfold"
   ]
  },
  {
   "cell_type": "code",
   "execution_count": 36,
   "metadata": {
    "collapsed": false
   },
   "outputs": [
    {
     "data": {
      "text/plain": [
       "\u001b[36mres33\u001b[0m: \u001b[32mList\u001b[0m[\u001b[32mInt\u001b[0m] = \u001b[33mList\u001b[0m(\u001b[32m1\u001b[0m, \u001b[32m1\u001b[0m, \u001b[32m1\u001b[0m, \u001b[32m1\u001b[0m, \u001b[32m1\u001b[0m)"
      ]
     },
     "metadata": {},
     "output_type": "display_data"
    }
   ],
   "source": [
    "toList(take(onesUF,5))"
   ]
  },
  {
   "cell_type": "code",
   "execution_count": 37,
   "metadata": {
    "collapsed": false
   },
   "outputs": [
    {
     "data": {
      "text/plain": [
       "defined \u001b[32mfunction \u001b[36mconstantUF\u001b[0m"
      ]
     },
     "metadata": {},
     "output_type": "display_data"
    }
   ],
   "source": [
    "def constantUF[A](n: A): Stream[A] ={\n",
    "    //same as constant above but uses unfold\n",
    "    unfold(n)(a => Option(n,n))\n",
    "}"
   ]
  },
  {
   "cell_type": "code",
   "execution_count": 38,
   "metadata": {
    "collapsed": false
   },
   "outputs": [
    {
     "data": {
      "text/plain": [
       "\u001b[36mres35\u001b[0m: \u001b[32mList\u001b[0m[\u001b[32mString\u001b[0m] = \u001b[33mList\u001b[0m(\u001b[32m\"a\"\u001b[0m, \u001b[32m\"a\"\u001b[0m, \u001b[32m\"a\"\u001b[0m, \u001b[32m\"a\"\u001b[0m, \u001b[32m\"a\"\u001b[0m)"
      ]
     },
     "metadata": {},
     "output_type": "display_data"
    }
   ],
   "source": [
    "toList(take(constantUF(\"a\"),5))"
   ]
  },
  {
   "cell_type": "code",
   "execution_count": 39,
   "metadata": {
    "collapsed": false
   },
   "outputs": [
    {
     "data": {
      "text/plain": [
       "defined \u001b[32mfunction \u001b[36mfibsUF\u001b[0m"
      ]
     },
     "metadata": {},
     "output_type": "display_data"
    }
   ],
   "source": [
    "def fibsUF: Stream[Int] = {\n",
    "    //same as fib above but uses unfold\n",
    "    unfold((0,1))(a => Option(a._1,(a._2,a._1+a._2)))\n",
    "}"
   ]
  },
  {
   "cell_type": "code",
   "execution_count": 40,
   "metadata": {
    "collapsed": false
   },
   "outputs": [
    {
     "data": {
      "text/plain": [
       "\u001b[36mres37\u001b[0m: \u001b[32mList\u001b[0m[\u001b[32mInt\u001b[0m] = \u001b[33mList\u001b[0m(\n",
       "  \u001b[32m0\u001b[0m,\n",
       "  \u001b[32m1\u001b[0m,\n",
       "  \u001b[32m1\u001b[0m,\n",
       "  \u001b[32m2\u001b[0m,\n",
       "  \u001b[32m3\u001b[0m,\n",
       "  \u001b[32m5\u001b[0m,\n",
       "  \u001b[32m8\u001b[0m,\n",
       "  \u001b[32m13\u001b[0m,\n",
       "  \u001b[32m21\u001b[0m,\n",
       "  \u001b[32m34\u001b[0m\n",
       ")"
      ]
     },
     "metadata": {},
     "output_type": "display_data"
    }
   ],
   "source": [
    "toList(take(fibsUF,10))"
   ]
  },
  {
   "cell_type": "markdown",
   "metadata": {},
   "source": [
    "<a id='section13'></a>"
   ]
  },
  {
   "cell_type": "markdown",
   "metadata": {},
   "source": [
    "### Exercise 5.13: rewrites using unfold round 2\n",
    "Use unfold to implement map, take, takeWhile, zipWith (as in chapter 3), and zipAll. The zipAll function should continue the traversal as long as either stream has more elements—it uses Option to indicate whether each stream has been exhausted."
   ]
  },
  {
   "cell_type": "code",
   "execution_count": 41,
   "metadata": {
    "collapsed": false
   },
   "outputs": [
    {
     "data": {
      "text/plain": [
       "defined \u001b[32mfunction \u001b[36mmapUF\u001b[0m"
      ]
     },
     "metadata": {},
     "output_type": "display_data"
    }
   ],
   "source": [
    "def mapUF[A,B](st: Stream[A])(f: A => B): Stream[B] = {\n",
    "    //rewrite of map using unfold\n",
    "    unfold(st){a => //our function takes the stream\n",
    "        a match{//then pattern matches on the stream\n",
    "            case Cons(h,t) => Some(f(h()),t())//if the stream is nonempty apply f to the head and place in Some so it \n",
    "            //can be added to to the stream and also pass the tail to the stream so we can keep iterating\n",
    "            case Empty => None//if the stream is empty return None so iteration will stop\n",
    "        }\n",
    "    }\n",
    "}"
   ]
  },
  {
   "cell_type": "code",
   "execution_count": 42,
   "metadata": {
    "collapsed": false
   },
   "outputs": [
    {
     "data": {
      "text/plain": [
       "\u001b[36mres39\u001b[0m: \u001b[32mList\u001b[0m[\u001b[32mInt\u001b[0m] = \u001b[33mList\u001b[0m(\u001b[32m3\u001b[0m, \u001b[32m6\u001b[0m, \u001b[32m9\u001b[0m)"
      ]
     },
     "metadata": {},
     "output_type": "display_data"
    }
   ],
   "source": [
    "toList(mapUF(Stream(1,2,3))(_*3))"
   ]
  },
  {
   "cell_type": "code",
   "execution_count": 43,
   "metadata": {
    "collapsed": false
   },
   "outputs": [
    {
     "data": {
      "text/plain": [
       "defined \u001b[32mfunction \u001b[36mtake\u001b[0m"
      ]
     },
     "metadata": {},
     "output_type": "display_data"
    }
   ],
   "source": [
    "def take[A](st:Stream[A], n: Int): Stream[A] ={\n",
    "    //rewrite of take using unfold\n",
    "    unfold((st,0)){a => //our base value is a tuple containing our stream and the initial \n",
    "                       //amount of elements in our new stream, 0\n",
    "        a match{// pattern match on the tuple\n",
    "            case (Cons(h,t),b) if b<n => Some(h(),(t(),b+1))// if our stream is nonempty and we have added less than n\n",
    "            //elements to our stream then add the head to our stream, keep iterating over tail and increment up our counter\n",
    "            case _ => None// if the list is empty or we have added our n elements to the new stream then stop iteration\n",
    "        }\n",
    "        \n",
    "    }\n",
    "}"
   ]
  },
  {
   "cell_type": "code",
   "execution_count": 44,
   "metadata": {
    "collapsed": false
   },
   "outputs": [
    {
     "data": {
      "text/plain": [
       "\u001b[36mres41\u001b[0m: \u001b[32mList\u001b[0m[\u001b[32mInt\u001b[0m] = \u001b[33mList\u001b[0m(\u001b[32m1\u001b[0m, \u001b[32m2\u001b[0m)"
      ]
     },
     "metadata": {},
     "output_type": "display_data"
    }
   ],
   "source": [
    "toList(take(Stream(1,2,3),2))"
   ]
  },
  {
   "cell_type": "code",
   "execution_count": 45,
   "metadata": {
    "collapsed": false
   },
   "outputs": [
    {
     "data": {
      "text/plain": [
       "defined \u001b[32mfunction \u001b[36mtakeWhile\u001b[0m"
      ]
     },
     "metadata": {},
     "output_type": "display_data"
    }
   ],
   "source": [
    "def takeWhile[A](st: Stream[A])(f: A => Boolean): Stream[A] = {\n",
    "    //rewrite of takeWhile using unfold\n",
    "    unfold(st){a => //the initial stream is our initial value\n",
    "              a match{//pattern match on a\n",
    "                  case Cons(h,t) if f(h()) => Some(h(),t())//if the stream is nonempty and the head evaluates to true\n",
    "                  //then add the head to the new stream and keep iterating over the tail\n",
    "                  case _ => None// if the stream is empty or the head evaluated to false then stop iteration\n",
    "              }}\n",
    "}"
   ]
  },
  {
   "cell_type": "code",
   "execution_count": 46,
   "metadata": {
    "collapsed": false
   },
   "outputs": [
    {
     "data": {
      "text/plain": [
       "\u001b[36mres43\u001b[0m: \u001b[32mList\u001b[0m[\u001b[32mInt\u001b[0m] = \u001b[33mList\u001b[0m(\u001b[32m1\u001b[0m, \u001b[32m1\u001b[0m)"
      ]
     },
     "metadata": {},
     "output_type": "display_data"
    }
   ],
   "source": [
    "toList(takeWhile(Stream(1,1,2,3))(_%2==1))"
   ]
  },
  {
   "cell_type": "code",
   "execution_count": 47,
   "metadata": {
    "collapsed": false
   },
   "outputs": [
    {
     "data": {
      "text/plain": [
       "defined \u001b[32mfunction \u001b[36mzipWith\u001b[0m"
      ]
     },
     "metadata": {},
     "output_type": "display_data"
    }
   ],
   "source": [
    "def zipWith[A,B,C](sta: Stream[A], stb: Stream[B])(f:(A,B) => C): Stream[C] = {\n",
    "    //take two streams apply f to their pairwise elements to generate a new stream of the output of f\n",
    "    //using unfold\n",
    "    unfold((sta,stb)){a => //take the tuple of the two streams as initial value\n",
    "                     a match{//pattern match on the tuple\n",
    "                         case (Cons(ha,ta),Cons(hb,tb)) => Some(f(ha(),hb()),(ta(),tb()))//both nonempty streams\n",
    "                         //then apply f to the two heads and keep iterating over the two tails\n",
    "                         case _ => None// if the streams are empty stop iteration\n",
    "                     }}\n",
    "}"
   ]
  },
  {
   "cell_type": "code",
   "execution_count": 48,
   "metadata": {
    "collapsed": false
   },
   "outputs": [
    {
     "data": {
      "text/plain": [
       "\u001b[36mres45\u001b[0m: \u001b[32mList\u001b[0m[\u001b[32mInt\u001b[0m] = \u001b[33mList\u001b[0m(\u001b[32m2\u001b[0m, \u001b[32m2\u001b[0m, \u001b[32m4\u001b[0m, \u001b[32m6\u001b[0m)"
      ]
     },
     "metadata": {},
     "output_type": "display_data"
    }
   ],
   "source": [
    "toList(zipWith(Stream(1,1,2,3),Stream(1,1,2,3))(_+_))"
   ]
  },
  {
   "cell_type": "code",
   "execution_count": 49,
   "metadata": {
    "collapsed": false
   },
   "outputs": [
    {
     "data": {
      "text/plain": [
       "defined \u001b[32mfunction \u001b[36mzipAll\u001b[0m"
      ]
     },
     "metadata": {},
     "output_type": "display_data"
    }
   ],
   "source": [
    "def zipAll[A,B](sta:Stream[A],stb: Stream[B]): Stream[(Option[A],Option[B])] = {\n",
    "    //takes two streams that could be of different length and produce a new stream of their pairwise elements and\n",
    "    // if an element does not have a corresponding element in the the other stream a None is used as a placeholder\n",
    "    //uses unfold\n",
    "    unfold((sta,stb)){a => //tuple of the two streams is our initial value\n",
    "                     a match{//pattern match on the tuple\n",
    "                         case (Cons(ha,ta),Cons(hb,tb)) => Some((Some(ha()),Some(hb())),(ta(),tb()))//if both streams\n",
    "                         //are nonempty wrap both heads in some and place them in a tuple to be added to our\n",
    "                         //new stream and keep iterating over the tails\n",
    "                         case (Cons(ha,ta),_) => Some((Some(ha()),None),(ta(),Empty))//if the second stream passed to \n",
    "                         //zipAll is empty wrap the first streams head in Some and place it in a tuple with None and\n",
    "                         //keep iterating over the first stream's tail\n",
    "                         case (_,Cons(hb,tb)) => Some((None,Some(hb())),(Empty,tb()))//if the first stream passed to \n",
    "                         //zipAll is empty wrap the second streams head in Some and place it in a tuple with None and\n",
    "                         //keep iterating over the second stream's tail\n",
    "                         case _ => None//if both streams are empty stop iteration\n",
    "                     }}\n",
    "}"
   ]
  },
  {
   "cell_type": "code",
   "execution_count": 50,
   "metadata": {
    "collapsed": false
   },
   "outputs": [
    {
     "data": {
      "text/plain": [
       "\u001b[36mres47\u001b[0m: \u001b[32mList\u001b[0m[(\u001b[32mOption\u001b[0m[\u001b[32mInt\u001b[0m], \u001b[32mOption\u001b[0m[\u001b[32mInt\u001b[0m])] = \u001b[33mList\u001b[0m(\n",
       "  \u001b[33m\u001b[0m(Some(1), Some(1)),\n",
       "  \u001b[33m\u001b[0m(Some(2), Some(2)),\n",
       "  \u001b[33m\u001b[0m(Some(3), Some(3)),\n",
       "  \u001b[33m\u001b[0m(None, Some(4))\n",
       ")"
      ]
     },
     "metadata": {},
     "output_type": "display_data"
    }
   ],
   "source": [
    "toList(zipAll(Stream(1,2,3),Stream(1,2,3,4)))"
   ]
  },
  {
   "cell_type": "markdown",
   "metadata": {},
   "source": [
    "<a id='section14'></a>"
   ]
  },
  {
   "cell_type": "markdown",
   "metadata": {},
   "source": [
    "### Exercise 5.14: startsWith\n",
    "Hard: Implement startsWith using functions you’ve written. It should check if one Stream is a prefix of another. For instance, Stream(1,2,3) startsWith Stream(1,2) would be true."
   ]
  },
  {
   "cell_type": "code",
   "execution_count": 51,
   "metadata": {
    "collapsed": false
   },
   "outputs": [
    {
     "data": {
      "text/plain": [
       "defined \u001b[32mfunction \u001b[36mstartsWith\u001b[0m"
      ]
     },
     "metadata": {},
     "output_type": "display_data"
    }
   ],
   "source": [
    "def startsWith[A](sta: Stream[A],stb: Stream[A]): Boolean ={\n",
    "    //take two streams and check if they they if one stream is equal to the beginnig of the other stream\n",
    "    forAll(filter(zipAll(sta,stb))(j => j._1!=None && j._2!=None))(i => i._1==i._2)\n",
    "    //first the two streams are zipAll'ed together because one stream could be shorter than the other\n",
    "    //then we filter the output of zipAll to be the stream containing tuples where neither value is None this way \n",
    "    //we only check for equality with elements that are in the two passed streams\n",
    "    //finally we check to make sure all the pairwise elements are equal to one another\n",
    "    //all of these functions are lazy and as soon as we hit a false the function will terminate and return false\n",
    "    //the only way all elements are evaluated is if all pairwise elements in the zipAll (that are not none)\n",
    "    //are equal and the last pair could or could not be equal\n",
    "    //ie the second test will iterate over all pairwise elements in the zipAll (that are not none)\n",
    "}"
   ]
  },
  {
   "cell_type": "code",
   "execution_count": 52,
   "metadata": {
    "collapsed": false
   },
   "outputs": [
    {
     "data": {
      "text/plain": [
       "\u001b[36mres49_0\u001b[0m: \u001b[32mBoolean\u001b[0m = true\n",
       "\u001b[36mres49_1\u001b[0m: \u001b[32mBoolean\u001b[0m = false"
      ]
     },
     "metadata": {},
     "output_type": "display_data"
    }
   ],
   "source": [
    "startsWith(Stream(1,2,3,4),Stream(1,2))\n",
    "startsWith(Stream(1,2,3,4),Stream(1,2,5))"
   ]
  },
  {
   "cell_type": "markdown",
   "metadata": {},
   "source": [
    "<a id='section15'></a>"
   ]
  },
  {
   "cell_type": "markdown",
   "metadata": {},
   "source": [
    "### Exercise 5.15: tails using unfold\n",
    "Implement tails using unfold. For a given Stream, tails returns the Stream of suffixes of the input sequence, starting with the original Stream. For example, given Stream(1,2,3), it would return Stream(Stream(1,2,3), Stream(2,3), Stream(3), Stream())."
   ]
  },
  {
   "cell_type": "code",
   "execution_count": 73,
   "metadata": {
    "collapsed": false
   },
   "outputs": [
    {
     "data": {
      "text/plain": [
       "defined \u001b[32mfunction \u001b[36mtails\u001b[0m"
      ]
     },
     "metadata": {},
     "output_type": "display_data"
    }
   ],
   "source": [
    "def tails[A](st: Stream[A]): Stream[Stream[A]] ={\n",
    "    //take a stream and return a stream of streams where the nth element of the Stream is a Stream containing the nth\n",
    "    //element of the stream and all of its proceeding elements\n",
    "    //uses unfold\n",
    "    unfold(st){a => //stream passed if out initial value\n",
    "              a match{ //pattern match on the stream\n",
    "                  case Cons(h,t) => Some(Cons(h,t),t())//if the stream is nonempty add the stream to our new stream of \n",
    "                  //streams and keep iterating over the tail\n",
    "                  case Empty => None//if the list is empty then stop iteration\n",
    "              }}\n",
    "}"
   ]
  },
  {
   "cell_type": "code",
   "execution_count": 74,
   "metadata": {
    "collapsed": false
   },
   "outputs": [
    {
     "data": {
      "text/plain": [
       "\u001b[36mres66\u001b[0m: \u001b[32mList\u001b[0m[\u001b[32mList\u001b[0m[\u001b[32mInt\u001b[0m]] = \u001b[33mList\u001b[0m(\n",
       "  \u001b[33mList\u001b[0m(\u001b[32m1\u001b[0m, \u001b[32m2\u001b[0m, \u001b[32m3\u001b[0m, \u001b[32m4\u001b[0m),\n",
       "  \u001b[33mList\u001b[0m(\u001b[32m2\u001b[0m, \u001b[32m3\u001b[0m, \u001b[32m4\u001b[0m),\n",
       "  \u001b[33mList\u001b[0m(\u001b[32m3\u001b[0m, \u001b[32m4\u001b[0m),\n",
       "  \u001b[33mList\u001b[0m(\u001b[32m4\u001b[0m)\n",
       ")"
      ]
     },
     "metadata": {},
     "output_type": "display_data"
    }
   ],
   "source": [
    "toList(mapUF(tails(Stream(1,2,3,4)))(toList))"
   ]
  },
  {
   "cell_type": "markdown",
   "metadata": {},
   "source": [
    "<a id='section16'></a>"
   ]
  },
  {
   "cell_type": "markdown",
   "metadata": {},
   "source": [
    "### Exercise 5.16: scanRight\n",
    "Hard: Generalize tails to the function scanRight, which is like a foldRight that returns a stream of the intermediate results. For example:"
   ]
  },
  {
   "cell_type": "code",
   "execution_count": 4,
   "metadata": {
    "collapsed": false
   },
   "outputs": [
    {
     "data": {
      "text/plain": [
       "defined \u001b[32mfunction \u001b[36mscanRight\u001b[0m"
      ]
     },
     "metadata": {},
     "output_type": "display_data"
    }
   ],
   "source": [
    "def scanRight[A,B](st:Stream[A], z: B)(f: (A, =>B) => B): Stream[B] = {\n",
    "    //implementation of scanRight in linear time using foldRight\n",
    "    //Stream is taken f is applied to nth element and all its proceeding elements and the accumalated result \n",
    "    //becomes the nth element in the new stream, for every element in the passed stream \n",
    "    foldRight(st,(z,Stream(z))){(a,b) => //foldRight on the passed stream with base value of tuple with \n",
    "                                //base value passed and that base value in a stream\n",
    "                               lazy val c = b //lazily evaluate the accumulator value\n",
    "                               val out = f(a,c._1) //apply f to the head and accumulated value lazily\n",
    "                               (out,Stream.cons(out,c._2))}._2 //add the the output to the new stream and keep iterating\n",
    "}"
   ]
  },
  {
   "cell_type": "code",
   "execution_count": 7,
   "metadata": {
    "collapsed": false
   },
   "outputs": [
    {
     "data": {
      "text/plain": [
       "\u001b[36mres4\u001b[0m: \u001b[32mList\u001b[0m[\u001b[32mInt\u001b[0m] = \u001b[33mList\u001b[0m(\u001b[32m6\u001b[0m, \u001b[32m5\u001b[0m, \u001b[32m3\u001b[0m, \u001b[32m0\u001b[0m)"
      ]
     },
     "metadata": {},
     "output_type": "display_data"
    }
   ],
   "source": [
    "toList(scanRight(Stream(1,2,3),0)(_+_))"
   ]
  },
  {
   "cell_type": "markdown",
   "metadata": {},
   "source": [
    "Unfold can be used in this problem.  It is suboptimal to the result above but it can be done, as shown below."
   ]
  },
  {
   "cell_type": "code",
   "execution_count": 79,
   "metadata": {
    "collapsed": false
   },
   "outputs": [
    {
     "data": {
      "text/plain": [
       "defined \u001b[32mfunction \u001b[36mreverse\u001b[0m"
      ]
     },
     "metadata": {},
     "output_type": "display_data"
    }
   ],
   "source": [
    "def reverse[A](st: Stream[A]): Stream[A] = {\n",
    "    //reverse elements of stream\n",
    "    st match{//pattern match stream\n",
    "        case Cons(h,t) => append(reverse(t()),Stream(h()))//add head to the end of the stream and keep iterating over tail\n",
    "        case _ => Empty//when stream is empty stop iterating\n",
    "    }\n",
    "}"
   ]
  },
  {
   "cell_type": "code",
   "execution_count": 95,
   "metadata": {
    "collapsed": false
   },
   "outputs": [
    {
     "data": {
      "text/plain": [
       "defined \u001b[32mfunction \u001b[36mscanRight\u001b[0m"
      ]
     },
     "metadata": {},
     "output_type": "display_data"
    }
   ],
   "source": [
    "def scanRight[A,B](st:Stream[A],z: => B)(f: (A,=>B) => B): Stream[B] ={\n",
    "    //scan right using unfold\n",
    "    val rev = reverse(st)//reverse stream\n",
    "    val revOut = unfold((rev,z)){a => //initial value of our reversed stream and base value\n",
    "              a match{ //pattern match on our tuple\n",
    "                  case (Cons(h,t),l) => {Some(f(h(),l),(t(),zz))}//apply f to our head and accumulated value and keep iterating\n",
    "                  case _ => None//once stream is empty stop iteration\n",
    "              }}\n",
    "    append(reverse(revOut),Stream(z))//reverse the result of our unfold and add the base value to the end of the list\n",
    "}"
   ]
  },
  {
   "cell_type": "code",
   "execution_count": 94,
   "metadata": {
    "collapsed": false
   },
   "outputs": [
    {
     "data": {
      "text/plain": [
       "\u001b[36mres78\u001b[0m: \u001b[32mList\u001b[0m[\u001b[32mInt\u001b[0m] = \u001b[33mList\u001b[0m(\u001b[32m6\u001b[0m, \u001b[32m5\u001b[0m, \u001b[32m3\u001b[0m, \u001b[32m0\u001b[0m)"
      ]
     },
     "metadata": {},
     "output_type": "display_data"
    }
   ],
   "source": [
    "toList(scanRight(Stream(1,2,3),0)(_+_))"
   ]
  }
 ],
 "metadata": {
  "kernelspec": {
   "display_name": "Scala 2.11",
   "language": "scala211",
   "name": "scala211"
  },
  "language_info": {
   "codemirror_mode": "text/x-scala",
   "file_extension": ".scala",
   "mimetype": "text/x-scala",
   "name": "scala211",
   "pygments_lexer": "scala",
   "version": "2.11.6"
  }
 },
 "nbformat": 4,
 "nbformat_minor": 0
}
