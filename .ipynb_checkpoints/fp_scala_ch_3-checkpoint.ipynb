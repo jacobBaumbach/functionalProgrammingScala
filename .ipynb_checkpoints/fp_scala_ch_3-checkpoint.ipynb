{
 "cells": [
  {
   "cell_type": "markdown",
   "metadata": {},
   "source": [
    "# Functional Programming in Scala Chapter 3"
   ]
  },
  {
   "cell_type": "markdown",
   "metadata": {},
   "source": [
    "## Table of Contents\n",
    "- [List Data Structure Used for Exercises](#section0)\n",
    "- [Exercise 3.1: Pattern Matching](#section1)\n",
    "- [Exercise 3.2: tail](#section2)\n",
    "- [Exercise 3.3: setHead](#section3)\n",
    "- [Exercise 3.4: drop](#section4)\n",
    "- [Exercise 3.5: dropWhile](#section5)\n",
    "- [Exercise 3.6 : Init](#section6)\n",
    "- [Fold Right given code](#section7)\n",
    "- [Exercise 3.7: product](#section8)\n",
    "- [Exercise 3.8: foldRight and List Constructor](#section9)\n",
    "- [Exercise 3.9: length](#section10)\n",
    "- [Exercise 3.10: foldLeft](#section11)\n",
    "- [Exercise 3.11: foldLeft sum, product and length](#section12)\n",
    "- [Exercise 3.12: reverse](#section13)\n",
    "- [ Exercise 3.13 : foldRight in terms of foldLeft, vice versa](#section14)\n",
    "- [Exercise 3.14: append](#section15)\n",
    "- [Exercise 3.15: flatten](#section16)\n",
    "- [Exercise 3.16: add 1](#section17)\n",
    "- [Exercise 3.17: doubles to strings](#section18)\n",
    "- [Exercise 3.18: map](#section19)\n",
    "- [Exercise 3.19: filter](#section20)\n",
    "- [Exercise 3.20: flatMap](#section21)\n",
    "- [Exercise 3.21: flatMap implement filter](#section22)\n",
    "- [Exercise 3.22: zip example](#section23)\n",
    "- [Exercise 3.23: zipWith](#section24)\n",
    "- [Exercise 3.24: hasSubsequence](#section25)\n",
    "- [Binary Tree Data Structure](#section26)\n",
    "- [Exercise 3.25: size of tree](#section27)\n",
    "- [Exercise 3.26: max leaf value](#section28)\n",
    "- [Exercise 3.27: depth](#section29)\n",
    "- [Exercise 3.28: map for trees](#section30)\n",
    "- [Exercise 3.29: fold](#section31)"
   ]
  },
  {
   "cell_type": "markdown",
   "metadata": {},
   "source": [
    "<a id='section0'></a>"
   ]
  },
  {
   "cell_type": "markdown",
   "metadata": {},
   "source": [
    "### List Data Structure Used for Exercises\n",
    "\n",
    "This is data structure provided for the exercises in this chapter.  I have included my comments along with the author's code"
   ]
  },
  {
   "cell_type": "code",
   "execution_count": 17,
   "metadata": {
    "collapsed": false
   },
   "outputs": [
    {
     "data": {
      "text/plain": [
       "defined \u001b[32mtrait \u001b[36maList\u001b[0m\n",
       "defined \u001b[32mobject \u001b[36mNil\u001b[0m\n",
       "defined \u001b[32mclass \u001b[36mCons\u001b[0m\n",
       "defined \u001b[32mobject \u001b[36maList\u001b[0m"
      ]
     },
     "metadata": {},
     "output_type": "display_data"
    }
   ],
   "source": [
    "sealed trait aList[+A]//polymorphic List trait that is covariant\n",
    "\n",
    "case object Nil extends aList[Nothing]//class for empty list\n",
    "case class Cons[+A](head: A, tail: aList[A]) extends aList[A]//class for nonempty list\n",
    "\n",
    "object aList{\n",
    "    //companion object for List\n",
    "    def apply[A](as: A*): aList[A] = {\n",
    "        if(as.isEmpty) Nil\n",
    "        else Cons(as.head,apply(as.tail:_*))\n",
    "    }\n",
    "}"
   ]
  },
  {
   "cell_type": "markdown",
   "metadata": {},
   "source": [
    "<a id='section1'></a>"
   ]
  },
  {
   "cell_type": "markdown",
   "metadata": {},
   "source": [
    "### Exercise 3.1: Pattern Matching\n",
    "\n",
    "What will be the result of the following match expression?\n",
    "\n",
    "val x = aList(1,2,3,4,5) match {\n",
    "\n",
    "  case Cons(x, Cons(2, Cons(4, _))) => x\n",
    "  \n",
    "  case Nil => 42\n",
    "  \n",
    "  case Cons(x, Cons(y, Cons(3, Cons(4, _)))) => x + y\n",
    "  \n",
    "  case Cons(h, t) => h + sum(t)\n",
    "  \n",
    "  case _ => 101\n",
    "  \n",
    "}"
   ]
  },
  {
   "cell_type": "markdown",
   "metadata": {},
   "source": [
    "**Answer:** 3"
   ]
  },
  {
   "cell_type": "markdown",
   "metadata": {},
   "source": [
    "<a id='section2'></a>"
   ]
  },
  {
   "cell_type": "markdown",
   "metadata": {},
   "source": [
    "### Exercise 3.2: tail\n",
    "\n",
    "Implement the function tail for removing the first element of a List. Note that the function takes constant time. What are different choices you could make in your implementation if the List is Nil? We’ll return to this question in the next chapter."
   ]
  },
  {
   "cell_type": "code",
   "execution_count": 23,
   "metadata": {
    "collapsed": false
   },
   "outputs": [
    {
     "data": {
      "text/plain": [
       "defined \u001b[32mfunction \u001b[36mtail\u001b[0m"
      ]
     },
     "metadata": {},
     "output_type": "display_data"
    }
   ],
   "source": [
    "def tail[A](x:aList[A]): aList[A] = {\n",
    "    //function to return the tail of an instance of aList\n",
    "    //pass an aList and an aList will be returned\n",
    "    x match{//pattern matching\n",
    "        case Nil => Nil//x is Nil then return Nil\n",
    "        case Cons(h,t) => t//if x is nonempty return all of its elements excluding the head\n",
    "    }\n",
    "}"
   ]
  },
  {
   "cell_type": "code",
   "execution_count": 24,
   "metadata": {
    "collapsed": false
   },
   "outputs": [
    {
     "data": {
      "text/plain": [
       "\u001b[36mtestTail\u001b[0m: \u001b[32maList\u001b[0m[\u001b[32mInt\u001b[0m] = Cons(2,Cons(3,Cons(4,Cons(5,Nil))))"
      ]
     },
     "metadata": {},
     "output_type": "display_data"
    }
   ],
   "source": [
    "val testTail = tail(aList(1,2,3,4,5))//test of tail"
   ]
  },
  {
   "cell_type": "markdown",
   "metadata": {},
   "source": [
    "<a id='section3'></a>"
   ]
  },
  {
   "cell_type": "markdown",
   "metadata": {},
   "source": [
    "### Exercise 3.3: setHead\n",
    "\n",
    "Using the same idea, implement the function setHead for replacing the first element of a List with a different value."
   ]
  },
  {
   "cell_type": "code",
   "execution_count": 26,
   "metadata": {
    "collapsed": false
   },
   "outputs": [
    {
     "data": {
      "text/plain": [
       "defined \u001b[32mfunction \u001b[36msetHead\u001b[0m"
      ]
     },
     "metadata": {},
     "output_type": "display_data"
    }
   ],
   "source": [
    "def setHead[A](newHead:A, x:aList[A]): aList[A] = {\n",
    "    //given an element and an aList make the aList's new head the give element\n",
    "    // pass an element and an instance of aList\n",
    "    //new aList will be generated\n",
    "    Cons(newHead,tail(x))//creates new instance of aList where the head is newHead and the tail is x\n",
    "}"
   ]
  },
  {
   "cell_type": "code",
   "execution_count": 27,
   "metadata": {
    "collapsed": false
   },
   "outputs": [
    {
     "data": {
      "text/plain": [
       "\u001b[36mtestSetHead\u001b[0m: \u001b[32maList\u001b[0m[\u001b[32mInt\u001b[0m] = Cons(0,Cons(2,Cons(3,Cons(4,Cons(5,Nil)))))"
      ]
     },
     "metadata": {},
     "output_type": "display_data"
    }
   ],
   "source": [
    "val testSetHead = setHead(0,aList(1,2,3,4,5))//test of tail"
   ]
  },
  {
   "cell_type": "markdown",
   "metadata": {},
   "source": [
    "<a id='section4'></a>"
   ]
  },
  {
   "cell_type": "markdown",
   "metadata": {},
   "source": [
    "### Exercise 3.4: drop\n",
    "\n",
    "Generalize tail to the function drop, which removes the first n elements from a list. Note that this function takes time proportional only to the number of elements being dropped—we don’t need to make a copy of the entire List."
   ]
  },
  {
   "cell_type": "code",
   "execution_count": 39,
   "metadata": {
    "collapsed": false
   },
   "outputs": [
    {
     "data": {
      "text/plain": [
       "defined \u001b[32mfunction \u001b[36mdrop\u001b[0m"
      ]
     },
     "metadata": {},
     "output_type": "display_data"
    }
   ],
   "source": [
    "def drop[A](l: aList[A], n: Int): aList[A] = {\n",
    "    // accepts instance of aList and integer representing the first n number of elements you wish to drop\n",
    "    // new aList with those first n elements eliminated is returned\n",
    "    @annotation.tailrec\n",
    "    def go(k: aList[A], m:Int): aList[A] = {\n",
    "        //tail recursive function that drops the first n elements one at a time\n",
    "        k match{//pattern matching\n",
    "            case Nil => Nil//if list is empty there are no more elements to drop return Nil\n",
    "            case _ =>{//nonempty list\n",
    "                if(m==n) k//if we dropped all the requested elements return the new aList\n",
    "                else go(tail(k), m+1)//still more elements to drop keep iterating\n",
    "            }\n",
    "        }\n",
    "    }\n",
    "    go(l,0)//starts the iteration\n",
    "}"
   ]
  },
  {
   "cell_type": "code",
   "execution_count": 40,
   "metadata": {
    "collapsed": false
   },
   "outputs": [
    {
     "data": {
      "text/plain": [
       "\u001b[36mres28_0\u001b[0m: \u001b[32maList\u001b[0m[\u001b[32mInt\u001b[0m] = Cons(4,Cons(5,Nil))\n",
       "\u001b[36mres28_1\u001b[0m: \u001b[32maList\u001b[0m[\u001b[32mInt\u001b[0m] = Nil"
      ]
     },
     "metadata": {},
     "output_type": "display_data"
    }
   ],
   "source": [
    "drop(aList(1,2,3,4,5),3)// test drop\n",
    "drop(aList(1,2,3,4,5),300)// test drop"
   ]
  },
  {
   "cell_type": "markdown",
   "metadata": {},
   "source": [
    "<a id='section5'></a>"
   ]
  },
  {
   "cell_type": "markdown",
   "metadata": {},
   "source": [
    "### Exercise 3.5: dropWhile\n",
    "\n",
    "Implement dropWhile, which removes elements from the List prefix as long as they match a predicate."
   ]
  },
  {
   "cell_type": "code",
   "execution_count": 62,
   "metadata": {
    "collapsed": false
   },
   "outputs": [
    {
     "data": {
      "text/plain": [
       "defined \u001b[32mfunction \u001b[36mdropWhile\u001b[0m"
      ]
     },
     "metadata": {},
     "output_type": "display_data"
    }
   ],
   "source": [
    "def dropWhile[A](l: aList[A], f: A => Boolean): aList[A]={\n",
    "    //accepts an aList and boolean function\n",
    "    //returns a new aList containing all the elements of l up to where f first evaluated false\n",
    "    @annotation.tailrec\n",
    "    def go(k: aList[A]): aList[A] = {\n",
    "        //accept aList and creates new list where the first element of l was false for f or when there are no more\n",
    "        //elements to check\n",
    "        k match{//pattern match\n",
    "         case Cons(h,t) if f(h) => go(t)//f is true for head drop head and keep iterating with tail\n",
    "         case _ => k //f is false of k is Nil return k  \n",
    "        }\n",
    "    } \n",
    "    go(l)\n",
    "    \n",
    "}"
   ]
  },
  {
   "cell_type": "code",
   "execution_count": 63,
   "metadata": {
    "collapsed": false
   },
   "outputs": [
    {
     "data": {
      "text/plain": [
       "\u001b[36mres46\u001b[0m: \u001b[32maList\u001b[0m[\u001b[32mInt\u001b[0m] = Cons(2,Cons(3,Cons(4,Cons(5,Nil))))"
      ]
     },
     "metadata": {},
     "output_type": "display_data"
    }
   ],
   "source": [
    "dropWhile(aList(1,2,3,4,5),{x:Int => x%2==1})"
   ]
  },
  {
   "cell_type": "markdown",
   "metadata": {},
   "source": [
    "<a id='section6'></a>"
   ]
  },
  {
   "cell_type": "markdown",
   "metadata": {},
   "source": [
    "### Exercise 3.6 : Init\n",
    "Not everything works out so nicely. Implement a function, init, that returns a List consisting of all but the last element of a List. So, given List(1,2,3,4), init will return List(1,2,3). Why can’t this function be implemented in constant time like tail?"
   ]
  },
  {
   "cell_type": "code",
   "execution_count": 56,
   "metadata": {
    "collapsed": false
   },
   "outputs": [
    {
     "data": {
      "text/plain": [
       "defined \u001b[32mfunction \u001b[36minit\u001b[0m"
      ]
     },
     "metadata": {},
     "output_type": "display_data"
    }
   ],
   "source": [
    "def init[A](l: aList[A]): aList[A] ={\n",
    "    //accepts an aList and will return a new list without the last element\n",
    "    l match {//pattern matching\n",
    "        case Nil => Nil//empty list then return empty list\n",
    "        case Cons(h,Nil) => Nil//reached last element replace with Nil\n",
    "        case Cons(h,t) => Cons(h,init(t))//element that is not last, add to new list\n",
    "    }\n",
    "}"
   ]
  },
  {
   "cell_type": "code",
   "execution_count": 57,
   "metadata": {
    "collapsed": false
   },
   "outputs": [
    {
     "data": {
      "text/plain": [
       "\u001b[36mres42\u001b[0m: \u001b[32maList\u001b[0m[\u001b[32mInt\u001b[0m] = Cons(1,Cons(2,Cons(3,Cons(4,Nil))))"
      ]
     },
     "metadata": {},
     "output_type": "display_data"
    }
   ],
   "source": [
    "init(aList(1,2,3,4,5))// test init"
   ]
  },
  {
   "cell_type": "markdown",
   "metadata": {},
   "source": [
    "**Answer:** The way aList is set up you must iterate through all the elements of an aList to reach the terminal element, which is why init is O(n) and not O(1)."
   ]
  },
  {
   "cell_type": "markdown",
   "metadata": {},
   "source": [
    "<a id='section7'></a>"
   ]
  },
  {
   "cell_type": "markdown",
   "metadata": {},
   "source": [
    "### Fold Right Given Code\n",
    "\n",
    "Below is the code provided by the author to complete some of the exercises.  I have included my comments"
   ]
  },
  {
   "cell_type": "code",
   "execution_count": 66,
   "metadata": {
    "collapsed": false
   },
   "outputs": [
    {
     "data": {
      "text/plain": [
       "defined \u001b[32mfunction \u001b[36mfoldRight\u001b[0m"
      ]
     },
     "metadata": {},
     "output_type": "display_data"
    }
   ],
   "source": [
    "def foldRight[A,B](as: aList[A], z: B)(f: (A,B) => B): B ={\n",
    "    //perfoms function,f, on elements of an aList, as, that combines all the elements and a base case, z, into\n",
    "    //a single value of type B\n",
    "    as match{//pattern matching\n",
    "        case Nil => z//empty aList return base case value\n",
    "        case Cons(h,t) => f(h, foldRight(t,z)(f))//nonempty aList then perform f on the head and remaining elements\n",
    "    }\n",
    "}"
   ]
  },
  {
   "cell_type": "markdown",
   "metadata": {},
   "source": [
    "<a id='section8'></a>"
   ]
  },
  {
   "cell_type": "markdown",
   "metadata": {},
   "source": [
    "### Exercise 3.7: product\n",
    "\n",
    "Can product, implemented using foldRight, immediately halt the recursion and return 0.0 if it encounters a 0.0? Why or why not? Consider how any short-circuiting might work if you call foldRight with a large list. This is a deeper question that we’ll return to in chapter 5."
   ]
  },
  {
   "cell_type": "markdown",
   "metadata": {},
   "source": [
    "** Answer:** With the provided implementation of foldRight no, because the only case in foldRight where iteration stops is when the list empty regardless of what values you encountered in the list along the way.  I think if you rewrote foldRight to include another case that allowed for a stop in iteration then yes it would be possible.  I have written an example of this below."
   ]
  },
  {
   "cell_type": "code",
   "execution_count": 80,
   "metadata": {
    "collapsed": false
   },
   "outputs": [
    {
     "data": {
      "text/plain": [
       "defined \u001b[32mfunction \u001b[36mfoldRightBase\u001b[0m"
      ]
     },
     "metadata": {},
     "output_type": "display_data"
    }
   ],
   "source": [
    "def foldRightBase[A,B](as: aList[A], z: B)(g: A => Boolean,y:B)(f: (A,B) => B): B ={\n",
    "    //perfoms function,f, on elements of an aList, as, that combines all the elements and a base case, z, into\n",
    "    //a single value of type B, if g evaluates true for any value then specified value y is returned\n",
    "    as match{//pattern matching\n",
    "        case Nil => z//empty aList return base case value\n",
    "        case Cons(h,t) if g(h) => y//g is true return specified value\n",
    "        case Cons(h,t) => f(h, foldRightBase(t,z)(g,y)(f))//nonempty aList then perform f on the head and remaining elements\n",
    "    }\n",
    "}"
   ]
  },
  {
   "cell_type": "code",
   "execution_count": 82,
   "metadata": {
    "collapsed": false
   },
   "outputs": [
    {
     "name": "stdout",
     "output_type": "stream",
     "text": [
      "4\n",
      "3\n",
      "2\n",
      "1\n"
     ]
    },
    {
     "data": {
      "text/plain": [
       "\u001b[36mres62\u001b[0m: \u001b[32mInt\u001b[0m = \u001b[32m0\u001b[0m"
      ]
     },
     "metadata": {},
     "output_type": "display_data"
    }
   ],
   "source": [
    "foldRightBase(aList(1,2,3,4,0,1,2,3,4), 1)(a => {a==0}, 0)((x,y) => {println(x); x*y})//test of foldRightBase"
   ]
  },
  {
   "cell_type": "markdown",
   "metadata": {},
   "source": [
    "<a id='section9'></a>"
   ]
  },
  {
   "cell_type": "markdown",
   "metadata": {},
   "source": [
    "### Exercise 3.8: foldRight and List Constructor\n",
    "\n",
    "See what happens when you pass Nil and Cons themselves to foldRight, like this: foldRight(List(1,2,3), Nil:List[Int])(Cons(_,_)).[10] What do you think this says about the relationship between foldRight and the data constructors of List?"
   ]
  },
  {
   "cell_type": "code",
   "execution_count": 86,
   "metadata": {
    "collapsed": false
   },
   "outputs": [
    {
     "data": {
      "text/plain": [
       "\u001b[36mbaseValue\u001b[0m: \u001b[32maList\u001b[0m[\u001b[32mInt\u001b[0m] = Nil\n",
       "\u001b[36mres65_1\u001b[0m: \u001b[32maList\u001b[0m[\u001b[32mInt\u001b[0m] = Cons(1,Cons(2,Cons(3,Cons(4,Cons(5,Nil)))))"
      ]
     },
     "metadata": {},
     "output_type": "display_data"
    }
   ],
   "source": [
    "val baseValue: aList[Int] = Nil\n",
    "foldRight(aList(1,2,3,4,5), baseValue)((a,b)=>Cons(a,b))"
   ]
  },
  {
   "cell_type": "markdown",
   "metadata": {},
   "source": [
    "**Answer:** \n",
    "\n",
    "foldRight and the aList's constructor are both using the same type of functional construction to create their ouptput of f(element_0,f(element_1,f(....,base case)))\n",
    "\n",
    "It is just that foldRight you get to specify f, where the constructor for aList f has already been specified."
   ]
  },
  {
   "cell_type": "markdown",
   "metadata": {},
   "source": [
    "<a id='section10'></a>"
   ]
  },
  {
   "cell_type": "markdown",
   "metadata": {},
   "source": [
    "### Exercise 3.9: length\n",
    "\n",
    "Compute the length of a list using foldRight."
   ]
  },
  {
   "cell_type": "code",
   "execution_count": 87,
   "metadata": {
    "collapsed": false
   },
   "outputs": [
    {
     "data": {
      "text/plain": [
       "defined \u001b[32mfunction \u001b[36mlength\u001b[0m"
      ]
     },
     "metadata": {},
     "output_type": "display_data"
    }
   ],
   "source": [
    "def length[A](x: aList[A]): Int = {\n",
    "    //given an aList will return the number of elements in the aList\n",
    "    foldRight(x,0)((a,b)=> b+1)//using foldRight pass aList, the base case size of an aList and then the function\n",
    "    //to increment up the base case for every element in x\n",
    "}"
   ]
  },
  {
   "cell_type": "code",
   "execution_count": 92,
   "metadata": {
    "collapsed": false
   },
   "outputs": [
    {
     "data": {
      "text/plain": [
       "\u001b[36mres71_0\u001b[0m: \u001b[32mInt\u001b[0m = \u001b[32m3\u001b[0m\n",
       "\u001b[36mres71_1\u001b[0m: \u001b[32mInt\u001b[0m = \u001b[32m0\u001b[0m"
      ]
     },
     "metadata": {},
     "output_type": "display_data"
    }
   ],
   "source": [
    "length(aList(\"a\",\"b\",\"c\"))\n",
    "length(aList())"
   ]
  },
  {
   "cell_type": "markdown",
   "metadata": {},
   "source": [
    "<a id='section11'></a>"
   ]
  },
  {
   "cell_type": "markdown",
   "metadata": {},
   "source": [
    "### Exercise 3.10: foldLeft\n",
    "\n",
    "Our implementation of foldRight is not tail-recursive and will result in a StackOverflowError for large lists (we say it’s not stack-safe). Convince yourself that this is the case, and then write another general list-recursion function, foldLeft, that is tail-recursive, using the techniques we discussed in the previous chapter. "
   ]
  },
  {
   "cell_type": "code",
   "execution_count": 94,
   "metadata": {
    "collapsed": false
   },
   "outputs": [
    {
     "data": {
      "text/plain": [
       "defined \u001b[32mfunction \u001b[36mfoldLeft\u001b[0m"
      ]
     },
     "metadata": {},
     "output_type": "display_data"
    }
   ],
   "source": [
    "def foldLeft[A,B](as: aList[A], z: B)(f: (B,A) => B): B ={\n",
    "    //pass an aList, base value, and a function to be performed on every element of as returning an output of type B\n",
    "    as match{//pattern matching\n",
    "        case Nil => z//empty list return base value\n",
    "        case _ => {//nonempty list\n",
    "            @annotation.tailrec\n",
    "            def go(temp: aList[A], acc: B): B ={\n",
    "                //tail recursive function that applies f to every element of as and accumulates the outputs of f in acc\n",
    "                //which is eventually returned\n",
    "                temp match{//pattern matching\n",
    "                    case Nil => acc//end of list return accumulated outputs\n",
    "                    case Cons(h,t) => go(t,f(acc,h))//not at end then pass the tail of the aList and update the\n",
    "                    //accumulated value\n",
    "                }\n",
    "            }\n",
    "            go(as,z)\n",
    "        }\n",
    "    }\n",
    "}"
   ]
  },
  {
   "cell_type": "code",
   "execution_count": 95,
   "metadata": {
    "collapsed": false
   },
   "outputs": [
    {
     "data": {
      "text/plain": [
       "\u001b[36mres74\u001b[0m: \u001b[32mDouble\u001b[0m = \u001b[32m15.0\u001b[0m"
      ]
     },
     "metadata": {},
     "output_type": "display_data"
    }
   ],
   "source": [
    "foldLeft(aList(1,2,3,4,5),0.0)((b,a)=>b+a)//test foldLeft"
   ]
  },
  {
   "cell_type": "markdown",
   "metadata": {},
   "source": [
    "<a id='section12'></a>"
   ]
  },
  {
   "cell_type": "markdown",
   "metadata": {},
   "source": [
    "### Exercise 3.11: foldLeft sum, product and length\n",
    "\n",
    "Write sum, product, and a function to compute the length of a list using foldLeft."
   ]
  },
  {
   "cell_type": "code",
   "execution_count": 115,
   "metadata": {
    "collapsed": false
   },
   "outputs": [
    {
     "data": {
      "text/plain": [
       "defined \u001b[32mfunction \u001b[36msum\u001b[0m"
      ]
     },
     "metadata": {},
     "output_type": "display_data"
    }
   ],
   "source": [
    "def sum(as: aList[Double]): Double ={\n",
    "    //takes the sum of all the elements of the aList\n",
    "    foldLeft(as,0.0)((b,a)=>b+a)\n",
    "}"
   ]
  },
  {
   "cell_type": "code",
   "execution_count": 116,
   "metadata": {
    "collapsed": false
   },
   "outputs": [
    {
     "data": {
      "text/plain": [
       "\u001b[36mres82\u001b[0m: \u001b[32mDouble\u001b[0m = \u001b[32m6.0\u001b[0m"
      ]
     },
     "metadata": {},
     "output_type": "display_data"
    }
   ],
   "source": [
    "sum(aList(1,2,3))//test sum"
   ]
  },
  {
   "cell_type": "code",
   "execution_count": 113,
   "metadata": {
    "collapsed": false
   },
   "outputs": [
    {
     "data": {
      "text/plain": [
       "defined \u001b[32mfunction \u001b[36mproduct\u001b[0m"
      ]
     },
     "metadata": {},
     "output_type": "display_data"
    }
   ],
   "source": [
    "def product(as: aList[Double]): Double = {\n",
    "    //finds the product of all the elements of the aList\n",
    "    foldLeft(as,1.0)((b,a)=>b*a)\n",
    "}"
   ]
  },
  {
   "cell_type": "code",
   "execution_count": 117,
   "metadata": {
    "collapsed": false
   },
   "outputs": [
    {
     "data": {
      "text/plain": [
       "\u001b[36mres83\u001b[0m: \u001b[32mDouble\u001b[0m = \u001b[32m24.0\u001b[0m"
      ]
     },
     "metadata": {},
     "output_type": "display_data"
    }
   ],
   "source": [
    "product(aList(1,2,3,4))//test product"
   ]
  },
  {
   "cell_type": "code",
   "execution_count": 120,
   "metadata": {
    "collapsed": false
   },
   "outputs": [
    {
     "data": {
      "text/plain": [
       "defined \u001b[32mfunction \u001b[36mlength\u001b[0m"
      ]
     },
     "metadata": {},
     "output_type": "display_data"
    }
   ],
   "source": [
    "def length[A](as: aList[A]): Int = {\n",
    "    //finds the number of elements in the aList\n",
    "    foldLeft(as,0)((b,a)=>b+1)\n",
    "}"
   ]
  },
  {
   "cell_type": "code",
   "execution_count": 121,
   "metadata": {
    "collapsed": false
   },
   "outputs": [
    {
     "data": {
      "text/plain": [
       "\u001b[36mres87\u001b[0m: \u001b[32mInt\u001b[0m = \u001b[32m2\u001b[0m"
      ]
     },
     "metadata": {},
     "output_type": "display_data"
    }
   ],
   "source": [
    "length(aList(\"a\",\"b\"))//test length"
   ]
  },
  {
   "cell_type": "markdown",
   "metadata": {},
   "source": [
    "<a id='section13'></a>"
   ]
  },
  {
   "cell_type": "markdown",
   "metadata": {},
   "source": [
    "### Exercise 3.12: reverse\n",
    "Write a function that returns the reverse of a list (given List(1,2,3) it returns List(3,2,1)). See if you can write it using a fold."
   ]
  },
  {
   "cell_type": "code",
   "execution_count": 124,
   "metadata": {
    "collapsed": false
   },
   "outputs": [
    {
     "data": {
      "text/plain": [
       "defined \u001b[32mfunction \u001b[36mreverse\u001b[0m"
      ]
     },
     "metadata": {},
     "output_type": "display_data"
    }
   ],
   "source": [
    "def reverse[A](as: aList[A]): aList[A] = {\n",
    "    //reverse the order of an aList using foldLeft\n",
    "    foldLeft(as,Nil: aList[A])((b,a)=>Cons(a,b))//take the given aList and the base case of Nil and create a new aList\n",
    "    //where the head of as becomes the last element of the new aList, the second element of as becomes the second to\n",
    "    //last element of aList and so on\n",
    "}"
   ]
  },
  {
   "cell_type": "code",
   "execution_count": 125,
   "metadata": {
    "collapsed": false
   },
   "outputs": [
    {
     "data": {
      "text/plain": [
       "\u001b[36mres89\u001b[0m: \u001b[32maList\u001b[0m[\u001b[32mInt\u001b[0m] = Cons(6,Cons(5,Cons(4,Cons(3,Cons(2,Cons(1,Nil))))))"
      ]
     },
     "metadata": {},
     "output_type": "display_data"
    }
   ],
   "source": [
    "reverse(aList(1,2,3,4,5,6))// test reverse"
   ]
  },
  {
   "cell_type": "markdown",
   "metadata": {},
   "source": [
    "<a id='section14'></a>"
   ]
  },
  {
   "cell_type": "markdown",
   "metadata": {},
   "source": [
    "### Exercise 3.13 : foldRight in terms of foldLeft, vice versa\n",
    "Hard: Can you write foldLeft in terms of foldRight? How about the other way around? Implementing foldRight via foldLeft is useful because it lets us implement foldRight tail-recursively, which means it works even for large lists without overflowing the stack."
   ]
  },
  {
   "cell_type": "code",
   "execution_count": 128,
   "metadata": {
    "collapsed": false
   },
   "outputs": [
    {
     "data": {
      "text/plain": [
       "defined \u001b[32mfunction \u001b[36mfR\u001b[0m"
      ]
     },
     "metadata": {},
     "output_type": "display_data"
    }
   ],
   "source": [
    "def fR[A,B](as: aList[A], z: B)(f: (A,B) => B): B ={\n",
    "    //implement foldRight using foldLeft\n",
    "    foldLeft(as,z)((b,a)=>f(a,b))\n",
    "}"
   ]
  },
  {
   "cell_type": "code",
   "execution_count": 158,
   "metadata": {
    "collapsed": false
   },
   "outputs": [
    {
     "data": {
      "text/plain": [
       "\u001b[36mres121\u001b[0m: \u001b[32mBoolean\u001b[0m = true"
      ]
     },
     "metadata": {},
     "output_type": "display_data"
    }
   ],
   "source": [
    "fR(aList(1,2,3,4,5,6,7,8),1.0)((a,b)=>a*b)==foldRight(aList(1,2,3,4,5,6,7,8),1.0)((a,b)=>a*b)//test fR"
   ]
  },
  {
   "cell_type": "code",
   "execution_count": 159,
   "metadata": {
    "collapsed": false
   },
   "outputs": [
    {
     "data": {
      "text/plain": [
       "defined \u001b[32mfunction \u001b[36mfL\u001b[0m"
      ]
     },
     "metadata": {},
     "output_type": "display_data"
    }
   ],
   "source": [
    "def fL[A,B](as: aList[A], z: B)(f: (B,A) => B): B = {\n",
    "    //implement foldLeft using foldRight\n",
    "    foldRight(as,z)((a,b)=>f(b,a))\n",
    "}"
   ]
  },
  {
   "cell_type": "code",
   "execution_count": 160,
   "metadata": {
    "collapsed": false
   },
   "outputs": [
    {
     "data": {
      "text/plain": [
       "\u001b[36mres123\u001b[0m: \u001b[32mBoolean\u001b[0m = true"
      ]
     },
     "metadata": {},
     "output_type": "display_data"
    }
   ],
   "source": [
    "fL(aList(1,2,3,4,5,6,7,8),1.0)((b,a)=>a*b)==foldLeft(aList(1,2,3,4,5,6,7,8),1.0)((b,a)=>a*b)//test fR"
   ]
  },
  {
   "cell_type": "markdown",
   "metadata": {},
   "source": [
    "<a id='section15'></a>"
   ]
  },
  {
   "cell_type": "markdown",
   "metadata": {},
   "source": [
    "### Exercise 3.14: append\n",
    "Implement append in terms of either foldLeft or foldRight."
   ]
  },
  {
   "cell_type": "code",
   "execution_count": 267,
   "metadata": {
    "collapsed": false
   },
   "outputs": [
    {
     "data": {
      "text/plain": [
       "defined \u001b[32mfunction \u001b[36mappendFR\u001b[0m"
      ]
     },
     "metadata": {},
     "output_type": "display_data"
    }
   ],
   "source": [
    "def appendFR[A](x: aList[A], y: aList[A]): aList[A] ={\n",
    "    //add element to end of list using foldRight\n",
    "    foldRight(x,y)((a,b)=> Cons(a,b))\n",
    "}"
   ]
  },
  {
   "cell_type": "code",
   "execution_count": 268,
   "metadata": {
    "collapsed": false
   },
   "outputs": [
    {
     "data": {
      "text/plain": [
       "\u001b[36mres190\u001b[0m: \u001b[32maList\u001b[0m[\u001b[32mInt\u001b[0m] = Cons(4,Cons(1,Cons(2,Cons(3,Nil))))"
      ]
     },
     "metadata": {},
     "output_type": "display_data"
    }
   ],
   "source": [
    "appendFR(aList(4),aList(1,2,3))//test foldRight implementation of append"
   ]
  },
  {
   "cell_type": "code",
   "execution_count": 235,
   "metadata": {
    "collapsed": false
   },
   "outputs": [
    {
     "data": {
      "text/plain": [
       "defined \u001b[32mfunction \u001b[36mappendFL\u001b[0m"
      ]
     },
     "metadata": {},
     "output_type": "display_data"
    }
   ],
   "source": [
    "def appendFL[A](x:aList[A], y: aList[A]): aList[A] = {\n",
    "    //add element to end of list using foldLeft\n",
    "    foldLeft(reverse(x),y)((z,a)=>Cons(a,z))//had to add reverse to preserve list order\n",
    "}"
   ]
  },
  {
   "cell_type": "code",
   "execution_count": 236,
   "metadata": {
    "collapsed": false
   },
   "outputs": [
    {
     "data": {
      "text/plain": [
       "\u001b[36mres167\u001b[0m: \u001b[32maList\u001b[0m[\u001b[32mInt\u001b[0m] = Cons(4,Cons(5,Cons(6,Cons(1,Cons(2,Cons(3,Nil))))))"
      ]
     },
     "metadata": {},
     "output_type": "display_data"
    }
   ],
   "source": [
    "appendFL(aList(4,5,6),aList(1,2,3))//test appendFL"
   ]
  },
  {
   "cell_type": "markdown",
   "metadata": {},
   "source": [
    "<a id='section16'></a>"
   ]
  },
  {
   "cell_type": "markdown",
   "metadata": {},
   "source": [
    "### Exercise 3.15: flatten\n",
    "Hard: Write a function that concatenates a list of lists into a single list. Its runtime should be linear in the total length of all lists. Try to use functions we have already defined."
   ]
  },
  {
   "cell_type": "code",
   "execution_count": 233,
   "metadata": {
    "collapsed": false
   },
   "outputs": [
    {
     "data": {
      "text/plain": [
       "defined \u001b[32mfunction \u001b[36mflatten\u001b[0m"
      ]
     },
     "metadata": {},
     "output_type": "display_data"
    }
   ],
   "source": [
    "def flattenFR[A](as: aList[aList[A]]):aList[A] = {\n",
    "    //flatten aList of aList using foldRight and my appendFR\n",
    "    foldRight(as,Nil : aList[A])((b,a) => appendFR(b,a))\n",
    "}"
   ]
  },
  {
   "cell_type": "code",
   "execution_count": null,
   "metadata": {
    "collapsed": true
   },
   "outputs": [],
   "source": [
    "flattenFR(aList(aList(1,2),aList(3,4),aList(5,6)))//test flattenFR"
   ]
  },
  {
   "cell_type": "code",
   "execution_count": 237,
   "metadata": {
    "collapsed": false
   },
   "outputs": [
    {
     "data": {
      "text/plain": [
       "defined \u001b[32mfunction \u001b[36mflattenFL\u001b[0m"
      ]
     },
     "metadata": {},
     "output_type": "display_data"
    }
   ],
   "source": [
    "def flattenFL[A](as: aList[aList[A]]):aList[A] = {\n",
    "    //flatten aList of aList using foldLeft and my appendFL\n",
    "    foldLeft(as,Nil : aList[A])((b,a) => appendFL(b,a))\n",
    "}"
   ]
  },
  {
   "cell_type": "code",
   "execution_count": 240,
   "metadata": {
    "collapsed": false
   },
   "outputs": [
    {
     "data": {
      "text/plain": [
       "\u001b[36mres170\u001b[0m: \u001b[32maList\u001b[0m[\u001b[32mInt\u001b[0m] = Cons(1,Cons(2,Cons(3,Cons(4,Cons(5,Cons(6,Nil))))))"
      ]
     },
     "metadata": {},
     "output_type": "display_data"
    }
   ],
   "source": [
    "flattenFL(aList(aList(1,2),aList(3,4),aList(5,6)))//test flattenFL"
   ]
  },
  {
   "cell_type": "markdown",
   "metadata": {},
   "source": [
    "<a id='section17'></a>"
   ]
  },
  {
   "cell_type": "markdown",
   "metadata": {},
   "source": [
    "### Exercise 3.16: add 1\n",
    "Write a function that transforms a list of integers by adding 1 to each element. (Reminder: this should be a pure function that returns a new List!)"
   ]
  },
  {
   "cell_type": "code",
   "execution_count": 247,
   "metadata": {
    "collapsed": false
   },
   "outputs": [
    {
     "data": {
      "text/plain": [
       "defined \u001b[32mfunction \u001b[36madd1\u001b[0m"
      ]
     },
     "metadata": {},
     "output_type": "display_data"
    }
   ],
   "source": [
    "def add1(as: aList[Int]): aList[Int]={\n",
    "    //add 1 to every element of aList as using foldRight\n",
    "    foldRight(as,Nil: aList[Int])((a,b)=>Cons(a+1,b))\n",
    "}"
   ]
  },
  {
   "cell_type": "code",
   "execution_count": 248,
   "metadata": {
    "collapsed": false
   },
   "outputs": [
    {
     "data": {
      "text/plain": [
       "\u001b[36mres175\u001b[0m: \u001b[32maList\u001b[0m[\u001b[32mInt\u001b[0m] = Cons(2,Cons(3,Cons(4,Nil)))"
      ]
     },
     "metadata": {},
     "output_type": "display_data"
    }
   ],
   "source": [
    "add1(aList(1,2,3))//test add1"
   ]
  },
  {
   "cell_type": "markdown",
   "metadata": {},
   "source": [
    "<a id='section18'></a>"
   ]
  },
  {
   "cell_type": "markdown",
   "metadata": {},
   "source": [
    "### Exercise 3.17: doubles to strings\n",
    "Write a function that turns each value in a List[Double] into a String. You can use the expression d.toString to convert some d: Double to a String."
   ]
  },
  {
   "cell_type": "code",
   "execution_count": 249,
   "metadata": {
    "collapsed": false
   },
   "outputs": [
    {
     "data": {
      "text/plain": [
       "defined \u001b[32mfunction \u001b[36mdouble2String\u001b[0m"
      ]
     },
     "metadata": {},
     "output_type": "display_data"
    }
   ],
   "source": [
    "def double2String(as: aList[Double]): aList[String] = {\n",
    "    //convert each element of aList into type string using foldRight\n",
    "    foldRight(as,Nil: aList[String])((a,b)=>Cons(a.toString,b))\n",
    "}"
   ]
  },
  {
   "cell_type": "code",
   "execution_count": 250,
   "metadata": {
    "collapsed": false
   },
   "outputs": [
    {
     "data": {
      "text/plain": [
       "\u001b[36mres177\u001b[0m: \u001b[32maList\u001b[0m[\u001b[32mString\u001b[0m] = Cons(1.1,Cons(2.2,Cons(3.3,Nil)))"
      ]
     },
     "metadata": {},
     "output_type": "display_data"
    }
   ],
   "source": [
    "double2String(aList(1.1,2.2,3.3))//test double2String"
   ]
  },
  {
   "cell_type": "markdown",
   "metadata": {},
   "source": [
    "<a id='section19'></a>"
   ]
  },
  {
   "cell_type": "markdown",
   "metadata": {},
   "source": [
    "### Exercise 3.18: map\n",
    "Write a function map that generalizes modifying each element in a list while maintaining the structure of the list. Here is its signature"
   ]
  },
  {
   "cell_type": "code",
   "execution_count": 254,
   "metadata": {
    "collapsed": false
   },
   "outputs": [
    {
     "data": {
      "text/plain": [
       "defined \u001b[32mfunction \u001b[36mmap\u001b[0m"
      ]
     },
     "metadata": {},
     "output_type": "display_data"
    }
   ],
   "source": [
    "def map[A,B](as: aList[A])(f: A => B): aList[B] = {\n",
    "    //map applies the function f to every element of the aList as and returns a new aList\n",
    "    as match{//pattern matching\n",
    "        case Nil => Nil// empty list return empty list\n",
    "        case Cons(h,t)=> Cons(f(h),map(t)(f))// nonempty then apply f to the element of as and iterate to the next element\n",
    "    }\n",
    "}"
   ]
  },
  {
   "cell_type": "code",
   "execution_count": 256,
   "metadata": {
    "collapsed": false
   },
   "outputs": [
    {
     "data": {
      "text/plain": [
       "\u001b[36mres180_0\u001b[0m: \u001b[32maList\u001b[0m[\u001b[32mInt\u001b[0m] = Cons(2,Cons(3,Cons(4,Nil)))\n",
       "\u001b[36mres180_1\u001b[0m: \u001b[32maList\u001b[0m[\u001b[32mString\u001b[0m] = Cons(1.1,Cons(2.2,Cons(3.3,Nil)))"
      ]
     },
     "metadata": {},
     "output_type": "display_data"
    }
   ],
   "source": [
    "map(aList(1,2,3))(_+1)//test map\n",
    "map(aList(1.1,2.2,3.3))(_.toString)//test map"
   ]
  },
  {
   "cell_type": "markdown",
   "metadata": {},
   "source": [
    "<a id='section20'></a>"
   ]
  },
  {
   "cell_type": "markdown",
   "metadata": {},
   "source": [
    "### Exercise 3.19: filter\n",
    "Write a function filter that removes elements from a list unless they satisfy a given predicate. Use it to remove all odd numbers from a List[Int]."
   ]
  },
  {
   "cell_type": "code",
   "execution_count": 263,
   "metadata": {
    "collapsed": false
   },
   "outputs": [
    {
     "data": {
      "text/plain": [
       "defined \u001b[32mfunction \u001b[36mfilter\u001b[0m"
      ]
     },
     "metadata": {},
     "output_type": "display_data"
    }
   ],
   "source": [
    "def filter[A](as: aList[A])(f: A => Boolean): aList[A] = {\n",
    "    //new aList of only the elements of the aList as that evaluate true for the given function f\n",
    "    as match{//pattern matching\n",
    "        case Nil => Nil//empty list return empty list\n",
    "        case Cons(h,t) if f(h) => Cons(h,filter(t)(f))//if f evaluates true for given element add to new list\n",
    "        case Cons(h,t) => filter(t)(f)//f evaluate false for element skip it and keep iterating\n",
    "    }\n",
    "}"
   ]
  },
  {
   "cell_type": "code",
   "execution_count": 264,
   "metadata": {
    "collapsed": false
   },
   "outputs": [
    {
     "data": {
      "text/plain": [
       "\u001b[36mres188\u001b[0m: \u001b[32maList\u001b[0m[\u001b[32mInt\u001b[0m] = Cons(1,Cons(3,Cons(5,Cons(7,Nil))))"
      ]
     },
     "metadata": {},
     "output_type": "display_data"
    }
   ],
   "source": [
    "filter(aList(1,2,3,4,5,6,7,8))(_%2==1)//test filter"
   ]
  },
  {
   "cell_type": "markdown",
   "metadata": {},
   "source": [
    "<a id='section21'></a>"
   ]
  },
  {
   "cell_type": "markdown",
   "metadata": {},
   "source": [
    "### Exercise 3.20: flatMap\n",
    "Write a function flatMap that works like map except that the function given will return a list instead of a single result, and that list should be inserted into the final resulting list."
   ]
  },
  {
   "cell_type": "code",
   "execution_count": 274,
   "metadata": {
    "collapsed": false
   },
   "outputs": [
    {
     "data": {
      "text/plain": [
       "defined \u001b[32mfunction \u001b[36mflatMap\u001b[0m"
      ]
     },
     "metadata": {},
     "output_type": "display_data"
    }
   ],
   "source": [
    "def flatMap[A,B](as: aList[A])(f: A=> aList[B]): aList[B] = {\n",
    "    //same as map but f has output type of aList[B] instead of B\n",
    "    as match {//pattern matching\n",
    "        case Nil => Nil//empty list return empty list\n",
    "        case Cons(h,t) => appendFR(f(h),flatMap(t)(f))//apply f to element append to new list and keep iterating\n",
    "    }\n",
    "}"
   ]
  },
  {
   "cell_type": "code",
   "execution_count": 275,
   "metadata": {
    "collapsed": false
   },
   "outputs": [
    {
     "data": {
      "text/plain": [
       "\u001b[36mres196\u001b[0m: \u001b[32maList\u001b[0m[\u001b[32mInt\u001b[0m] = Cons(1,Cons(1,Cons(2,Cons(2,Cons(3,Cons(3,Cons(4,Cons(4,Nil))))))))"
      ]
     },
     "metadata": {},
     "output_type": "display_data"
    }
   ],
   "source": [
    "flatMap(aList(1,2,3,4))(i => aList(i,i))"
   ]
  },
  {
   "cell_type": "markdown",
   "metadata": {},
   "source": [
    "<a id='section22'></a>"
   ]
  },
  {
   "cell_type": "markdown",
   "metadata": {},
   "source": [
    "### Exercise 3.21: flatMap implement filter\n",
    "Use flatMap to implement filter."
   ]
  },
  {
   "cell_type": "code",
   "execution_count": 280,
   "metadata": {
    "collapsed": false
   },
   "outputs": [
    {
     "data": {
      "text/plain": [
       "defined \u001b[32mfunction \u001b[36mfilterFM\u001b[0m"
      ]
     },
     "metadata": {},
     "output_type": "display_data"
    }
   ],
   "source": [
    "def filterFM[A](as: aList[A])(f: A => Boolean): aList[A] = {\n",
    "    //same as filter above except uses flatMap for implementation\n",
    "    flatMap(as)(i => {//call flatMap and pass function that uses f\n",
    "                        if(f(i)){aList(i)} //f evaluates to true for given argument return new aList containing element\n",
    "                        else Nil//otherwise return empty list\n",
    "                     })\n",
    "}"
   ]
  },
  {
   "cell_type": "code",
   "execution_count": 281,
   "metadata": {
    "collapsed": false
   },
   "outputs": [
    {
     "data": {
      "text/plain": [
       "\u001b[36mres201\u001b[0m: \u001b[32maList\u001b[0m[\u001b[32mInt\u001b[0m] = Cons(1,Cons(3,Cons(5,Cons(7,Nil))))"
      ]
     },
     "metadata": {},
     "output_type": "display_data"
    }
   ],
   "source": [
    "filterFM(aList(1,2,3,4,5,6,7,8))(_%2==1)//test filter"
   ]
  },
  {
   "cell_type": "markdown",
   "metadata": {},
   "source": [
    "<a id='section23'></a>"
   ]
  },
  {
   "cell_type": "markdown",
   "metadata": {},
   "source": [
    "### Exercise 3.22: zip example\n",
    "Write a function that accepts two lists and constructs a new list by adding corresponding elements. For example, List(1,2,3) and List(4,5,6) become List(5,7,9)"
   ]
  },
  {
   "cell_type": "code",
   "execution_count": 286,
   "metadata": {
    "collapsed": false
   },
   "outputs": [
    {
     "data": {
      "text/plain": [
       "defined \u001b[32mfunction \u001b[36mzipWith\u001b[0m"
      ]
     },
     "metadata": {},
     "output_type": "display_data"
    }
   ],
   "source": [
    "def zipWith[A,B,C](x: aList[A], y: aList[B])(f: (A,B) => C): aList[C] = {\n",
    "    //accepts two aLists combines their elements pairwise according to f and returns a new list\n",
    "    if(length(x)==length(y)){//check lists passed are of same length\n",
    "        def go(iterX: aList[A],iterY: aList[B]): aList[C] = { \n",
    "            //iterate through to aLists performing the pairwise operation f \n",
    "            (iterX,iterY) match{//pattern matching\n",
    "                case (Nil,Nil) => Nil//empty list return empty list\n",
    "                case(Cons(hx,tx),Cons(hy,ty)) => Cons(f(hx,hy),go(tx,ty))//create new list where combine element of\n",
    "                //x and y and keep iterating\n",
    "            }\n",
    "        }\n",
    "        go(x,y)\n",
    "    }\n",
    "    else Nil//list different lengths return empty list\n",
    "}"
   ]
  },
  {
   "cell_type": "code",
   "execution_count": 284,
   "metadata": {
    "collapsed": false
   },
   "outputs": [
    {
     "data": {
      "text/plain": [
       "\u001b[36mres203\u001b[0m: \u001b[32maList\u001b[0m[\u001b[32mInt\u001b[0m] = Cons(5,Cons(7,Cons(9,Nil)))"
      ]
     },
     "metadata": {},
     "output_type": "display_data"
    }
   ],
   "source": [
    "zipWith(aList(1,2,3),aList(4,5,6))(_+_)//test zipWith"
   ]
  },
  {
   "cell_type": "markdown",
   "metadata": {},
   "source": [
    "<a id='section24'></a>"
   ]
  },
  {
   "cell_type": "markdown",
   "metadata": {},
   "source": [
    "### Exercise 3.23: zipWith\n",
    "Generalize the function you just wrote so that it’s not specific to integers or addition. Name your generalized function zipWith."
   ]
  },
  {
   "cell_type": "code",
   "execution_count": 287,
   "metadata": {
    "collapsed": false
   },
   "outputs": [
    {
     "data": {
      "text/plain": [
       "defined \u001b[32mfunction \u001b[36mzipWith\u001b[0m"
      ]
     },
     "metadata": {},
     "output_type": "display_data"
    }
   ],
   "source": [
    "def zipWith[A,B,C](x: aList[A], y: aList[B])(f: (A,B) => C): aList[C] = {\n",
    "    //accepts two aLists combines their elements pairwise according to f and returns a new list\n",
    "    if(length(x)==length(y)){//check lists passed are of same length\n",
    "        def go(iterX: aList[A],iterY: aList[B]): aList[C] = { \n",
    "            //iterate through to aLists performing the pairwise operation f \n",
    "            (iterX,iterY) match{//pattern matching\n",
    "                case (Nil,Nil) => Nil//empty list return empty list\n",
    "                case(Cons(hx,tx),Cons(hy,ty)) => Cons(f(hx,hy),go(tx,ty))//create new list where combine element of\n",
    "                //x and y and keep iterating\n",
    "            }\n",
    "        }\n",
    "        go(x,y)\n",
    "    }\n",
    "    else Nil//list different lengths return empty list\n",
    "}"
   ]
  },
  {
   "cell_type": "code",
   "execution_count": 290,
   "metadata": {
    "collapsed": false
   },
   "outputs": [
    {
     "data": {
      "text/plain": [
       "\u001b[36mres207\u001b[0m: \u001b[32maList\u001b[0m[\u001b[32mString\u001b[0m] = Cons(1.1,Cons(4.4,Cons(9.899999999999999,Cons(17.6,Nil))))"
      ]
     },
     "metadata": {},
     "output_type": "display_data"
    }
   ],
   "source": [
    "zipWith(aList(1,2,3,4),aList(1.1,2.2,3.3,4.4))((a,b) => (a*b).toString)//test zipWith"
   ]
  },
  {
   "cell_type": "markdown",
   "metadata": {},
   "source": [
    "<a id='section25'></a>"
   ]
  },
  {
   "cell_type": "markdown",
   "metadata": {},
   "source": [
    "### Exercise 3.24: hasSubsequence\n",
    "Hard: As an example, implement hasSubsequence for checking whether a List contains another List as a subsequence. For instance, List(1,2,3,4) would have List(1,2), List(2,3), and List(4) as subsequences, among others. You may have some difficulty finding a concise purely functional implementation that is also efficient. That’s okay. Implement the function however comes most naturally. We’ll return to this implementation in chapter 5 and hopefully improve on it. Note: Any two values x and y can be compared for equality in Scala using the expression x == y."
   ]
  },
  {
   "cell_type": "code",
   "execution_count": 295,
   "metadata": {
    "collapsed": false
   },
   "outputs": [
    {
     "data": {
      "text/plain": [
       "defined \u001b[32mfunction \u001b[36mhasSubsequence\u001b[0m"
      ]
     },
     "metadata": {},
     "output_type": "display_data"
    }
   ],
   "source": [
    "def hasSubsequence[A](sup: aList[A], sub: aList[A]): Boolean ={\n",
    "    //function checks if sub is a subsequence of sup\n",
    "    (sup,sub) match {//pattern matching\n",
    "        case (_, Nil) => true//pass empty sub automatically true\n",
    "        case (Nil, _) => false//pass empty sup but nonempty sub automatically false\n",
    "        case (Cons(hSup,tSup),Cons(hSub,tSub)) => {//both sup and sub are nonempty\n",
    "            def go(iterSup: aList[A],iterSub: aList[A]): Boolean = {\n",
    "                //function that iterates over two lists checking if sub is a subsequence of sup\n",
    "                (iterSup,iterSub) match {//pattern matching\n",
    "                    case (_,Nil) => true//no more elements in sub then true\n",
    "                    case (Nil, _) => false//no more elements in sup but still elements in sub then false\n",
    "                    case (Cons(hSup,tSup),Cons(hSub,tSub)) if hSup==hSub => go(tSup, tSub)//both nonempty and hit then \n",
    "                    //eliminate matching elements and keep iterating\n",
    "                    case (Cons(hSup,tSup),Cons(hSub,tSub)) => go(tSup, sub)//elements do not match then look at next\n",
    "                    //element of sup and restart with sub\n",
    "                }\n",
    "            }\n",
    "            go(sup,sub)\n",
    "        }\n",
    "    }\n",
    "}"
   ]
  },
  {
   "cell_type": "code",
   "execution_count": 299,
   "metadata": {
    "collapsed": false
   },
   "outputs": [
    {
     "data": {
      "text/plain": [
       "\u001b[36mres214_0\u001b[0m: \u001b[32mBoolean\u001b[0m = true\n",
       "\u001b[36mres214_1\u001b[0m: \u001b[32mBoolean\u001b[0m = true\n",
       "\u001b[36mres214_2\u001b[0m: \u001b[32mBoolean\u001b[0m = true"
      ]
     },
     "metadata": {},
     "output_type": "display_data"
    }
   ],
   "source": [
    "hasSubsequence(aList(1,2,1,2,3,1,2,3,4),aList(1,2,3,5)) == false// test hasSubsequence\n",
    "hasSubsequence(aList(1,2,1,2,3,1,2,3,4),aList(1,2,3,4)) == true// test hasSubsequence\n",
    "hasSubsequence(aList(1,2,1,2,3,1,2,3,4,5,6,7,8),aList(1,2,3,4)) == true// test hasSubsequence"
   ]
  },
  {
   "cell_type": "markdown",
   "metadata": {},
   "source": [
    "<a id='section26'></a>"
   ]
  },
  {
   "cell_type": "markdown",
   "metadata": {},
   "source": [
    "### Binary Tree Data Structure\n",
    "\n",
    "This is code provided by the author with my comments"
   ]
  },
  {
   "cell_type": "code",
   "execution_count": 300,
   "metadata": {
    "collapsed": false
   },
   "outputs": [
    {
     "data": {
      "text/plain": [
       "defined \u001b[32mtrait \u001b[36mTree\u001b[0m\n",
       "defined \u001b[32mclass \u001b[36mLeaf\u001b[0m\n",
       "defined \u001b[32mclass \u001b[36mBranch\u001b[0m"
      ]
     },
     "metadata": {},
     "output_type": "display_data"
    }
   ],
   "source": [
    "sealed trait Tree[+A]//defines the trait Tree that is polymorphic and covariant in A\n",
    "case class Leaf[A](value: A) extends Tree[A]//case class Leaf extends Tree\n",
    "case class Branch[A](left: Tree[A], right: Tree[A]) extends Tree[A]//case class Branch extends Tree"
   ]
  },
  {
   "cell_type": "markdown",
   "metadata": {},
   "source": [
    "<a id='section27'></a>"
   ]
  },
  {
   "cell_type": "markdown",
   "metadata": {},
   "source": [
    "### Exercise 3.25: size of tree\n",
    "\n",
    "Write a function size that counts the number of nodes (leaves and branches) in a tree."
   ]
  },
  {
   "cell_type": "code",
   "execution_count": 315,
   "metadata": {
    "collapsed": false
   },
   "outputs": [
    {
     "data": {
      "text/plain": [
       "defined \u001b[32mfunction \u001b[36msize\u001b[0m"
      ]
     },
     "metadata": {},
     "output_type": "display_data"
    }
   ],
   "source": [
    "def size[A](tree: Tree[A]): Int = {\n",
    "    //count the total number of branches and leaves in the tree\n",
    "    tree match {//pattern match\n",
    "            case Leaf(v) => 1//leaf then add one to size\n",
    "            case Branch(l,r) => size(l)+size(r)+1//branch then traverse down left and right and add 1 to count\n",
    "        }\n",
    "}"
   ]
  },
  {
   "cell_type": "code",
   "execution_count": 316,
   "metadata": {
    "collapsed": false
   },
   "outputs": [
    {
     "data": {
      "text/plain": [
       "\u001b[36mres229\u001b[0m: \u001b[32mInt\u001b[0m = \u001b[32m7\u001b[0m"
      ]
     },
     "metadata": {},
     "output_type": "display_data"
    }
   ],
   "source": [
    "size(Branch(Branch(Branch(Leaf(1),Leaf(2)),Leaf(2)),Leaf(4))) == 7 //test size"
   ]
  },
  {
   "cell_type": "markdown",
   "metadata": {},
   "source": [
    "<a id='section28'></a>"
   ]
  },
  {
   "cell_type": "markdown",
   "metadata": {},
   "source": [
    "### Exercise 3.26: max leaf value\n",
    "Write a function maximum that returns the maximum element in a Tree[Int]. "
   ]
  },
  {
   "cell_type": "code",
   "execution_count": 317,
   "metadata": {
    "collapsed": false
   },
   "outputs": [
    {
     "data": {
      "text/plain": [
       "defined \u001b[32mfunction \u001b[36mmaxLeaf\u001b[0m"
      ]
     },
     "metadata": {},
     "output_type": "display_data"
    }
   ],
   "source": [
    "def maxLeaf(tree: Tree[Int]): Int ={\n",
    "    //return the max leaf value for a Tree[Int]\n",
    "    tree match {//pattern matching\n",
    "        case Leaf(v) => v//if leaf return value\n",
    "        case Branch(l,r) => maxLeaf(l) max maxLeaf(r)//if branch keep iterating and return the \n",
    "                                                     //max leaf value between left and right\n",
    "    }\n",
    "}"
   ]
  },
  {
   "cell_type": "code",
   "execution_count": 319,
   "metadata": {
    "collapsed": false
   },
   "outputs": [
    {
     "data": {
      "text/plain": [
       "\u001b[36mres232\u001b[0m: \u001b[32mBoolean\u001b[0m = true"
      ]
     },
     "metadata": {},
     "output_type": "display_data"
    }
   ],
   "source": [
    "maxLeaf(Branch(Branch(Branch(Leaf(1),Leaf(2)),Leaf(2)),Leaf(4))) == 4 //test maxLeaf"
   ]
  },
  {
   "cell_type": "markdown",
   "metadata": {},
   "source": [
    "<a id='section29'></a>"
   ]
  },
  {
   "cell_type": "markdown",
   "metadata": {},
   "source": [
    "### Exercise 3.27: depth\n",
    "Write a function depth that returns the maximum path length from the root of a tree to any leaf."
   ]
  },
  {
   "cell_type": "code",
   "execution_count": 348,
   "metadata": {
    "collapsed": false
   },
   "outputs": [
    {
     "data": {
      "text/plain": [
       "defined \u001b[32mfunction \u001b[36mdepth\u001b[0m"
      ]
     },
     "metadata": {},
     "output_type": "display_data"
    }
   ],
   "source": [
    "def depth[A](tree: Tree[A]): Int ={\n",
    "    //finds the length of longest path from the root of the tree to one of its leaves\n",
    "    def go(iterTree: Tree[A], acc: Int): Int = {\n",
    "        //iterate through tree counting the depth to each leaf from root and return max depth\n",
    "        iterTree match {//pattern matching\n",
    "            case Leaf(v) => acc+1//hit leaf add one to accumulator and return value\n",
    "            case Branch(l,r) => (go(l,acc+1) max go(r,acc+1))//branch, traverse left and right, return max depth \n",
    "                                                             //between the two\n",
    "        }\n",
    "    }\n",
    "    go(tree,0)\n",
    "}"
   ]
  },
  {
   "cell_type": "code",
   "execution_count": 349,
   "metadata": {
    "collapsed": false
   },
   "outputs": [
    {
     "data": {
      "text/plain": [
       "\u001b[36mres259\u001b[0m: \u001b[32mBoolean\u001b[0m = true"
      ]
     },
     "metadata": {},
     "output_type": "display_data"
    }
   ],
   "source": [
    "depth(Branch(Branch(Branch(Leaf(2),Branch(Leaf(1),Leaf(1))),Leaf(2)),Leaf(4))) == 5 //test depth"
   ]
  },
  {
   "cell_type": "markdown",
   "metadata": {},
   "source": [
    "<a id='section30'></a>"
   ]
  },
  {
   "cell_type": "markdown",
   "metadata": {},
   "source": [
    "### Exercise 3.28: map for trees\n",
    "Write a function map, analogous to the method of the same name on List, that modifies each element in a tree with a given function."
   ]
  },
  {
   "cell_type": "code",
   "execution_count": 351,
   "metadata": {
    "collapsed": false
   },
   "outputs": [
    {
     "data": {
      "text/plain": [
       "defined \u001b[32mfunction \u001b[36mmap4Tree\u001b[0m"
      ]
     },
     "metadata": {},
     "output_type": "display_data"
    }
   ],
   "source": [
    "def map4Tree[A, B](tree: Tree[A])(f: A => B): Tree[B] = {\n",
    "    //traverse tree apply f to each value of tree and maintain its structure and return new tree \n",
    "    tree match {//pattern matching\n",
    "        case Leaf(v) => Leaf(f(v))//leaf, apply f to v and return new leaf containing result\n",
    "        case Branch(l,r) => Branch(map4Tree(l)(f),map4Tree(r)(f))//branch, traverse left and right place both results\n",
    "                                                                 //in their respective side of branch\n",
    "    }\n",
    "}"
   ]
  },
  {
   "cell_type": "code",
   "execution_count": 353,
   "metadata": {
    "collapsed": false
   },
   "outputs": [
    {
     "data": {
      "text/plain": [
       "\u001b[36mres261\u001b[0m: \u001b[32mTree\u001b[0m[\u001b[32mString\u001b[0m] = Branch(Branch(Branch(Leaf(4),Branch(Leaf(2),Leaf(2))),Leaf(4)),Leaf(8))"
      ]
     },
     "metadata": {},
     "output_type": "display_data"
    }
   ],
   "source": [
    "map4Tree(Branch(Branch(Branch(Leaf(2),Branch(Leaf(1),Leaf(1))),Leaf(2)),Leaf(4)))(a => (a*2).toString)//test map4Tree"
   ]
  },
  {
   "cell_type": "markdown",
   "metadata": {},
   "source": [
    "<a id='section31'></a>"
   ]
  },
  {
   "cell_type": "markdown",
   "metadata": {},
   "source": [
    "### Exercise 3.29: fold\n",
    "Generalize size, maximum, depth, and map, writing a new function fold that abstracts over their similarities. Reimplement them in terms of this more general function. Can you draw an analogy between this fold function and the left and right folds for List?"
   ]
  },
  {
   "cell_type": "code",
   "execution_count": 354,
   "metadata": {
    "collapsed": false
   },
   "outputs": [
    {
     "data": {
      "text/plain": [
       "defined \u001b[32mfunction \u001b[36mfold\u001b[0m"
      ]
     },
     "metadata": {},
     "output_type": "display_data"
    }
   ],
   "source": [
    "def fold[A,B](tree: Tree[A])(f: A => B)(g: (B,B) => B): B = {\n",
    "    //given tree, function to apply to leaves and function to combine the left and right of a Branch\n",
    "    //fold generalizes applying a function to leaves and another function to combine the left and right of a Branch\n",
    "    //to obtain a single result\n",
    "    tree match{//pattern matching\n",
    "        case Leaf(v) => f(v)//leaf, apply leaf function to value\n",
    "        case Branch(l,r) => g(fold(l)(f)(g),fold(r)(f)(g))//branch, apply combiner function and traverse each side\n",
    "    }\n",
    "    \n",
    "}"
   ]
  },
  {
   "cell_type": "code",
   "execution_count": 356,
   "metadata": {
    "collapsed": false
   },
   "outputs": [
    {
     "data": {
      "text/plain": [
       "defined \u001b[32mfunction \u001b[36msizeFold\u001b[0m"
      ]
     },
     "metadata": {},
     "output_type": "display_data"
    }
   ],
   "source": [
    "def sizeFold[A](tree: Tree[A]): Int ={\n",
    "    //same as size above but implemented using fold\n",
    "    fold(tree)(a => 1)((b,c) => b+c+1)\n",
    "}"
   ]
  },
  {
   "cell_type": "code",
   "execution_count": 358,
   "metadata": {
    "collapsed": false
   },
   "outputs": [
    {
     "data": {
      "text/plain": [
       "defined \u001b[32mfunction \u001b[36mmaxLeafFold\u001b[0m"
      ]
     },
     "metadata": {},
     "output_type": "display_data"
    }
   ],
   "source": [
    "def maxLeafFold(tree: Tree[Int]): Int ={\n",
    "    //same as maxLeaf above but implemented using fold\n",
    "    fold(tree)(a => a)((b,c) => b max c)\n",
    "}"
   ]
  },
  {
   "cell_type": "code",
   "execution_count": 360,
   "metadata": {
    "collapsed": false
   },
   "outputs": [
    {
     "data": {
      "text/plain": [
       "defined \u001b[32mfunction \u001b[36mdepthFold\u001b[0m"
      ]
     },
     "metadata": {},
     "output_type": "display_data"
    }
   ],
   "source": [
    "def depthFold[A](tree: Tree[A]): Int ={\n",
    "    //same as depth above but implemented using fold\n",
    "    fold(tree)(a => 1)((b,c)=> (b+1) max (c+1))\n",
    "}"
   ]
  },
  {
   "cell_type": "code",
   "execution_count": 357,
   "metadata": {
    "collapsed": false
   },
   "outputs": [
    {
     "data": {
      "text/plain": [
       "\u001b[36mres265\u001b[0m: \u001b[32mBoolean\u001b[0m = true"
      ]
     },
     "metadata": {},
     "output_type": "display_data"
    }
   ],
   "source": [
    "sizeFold(Branch(Branch(Branch(Leaf(1),Leaf(2)),Leaf(2)),Leaf(4))) == 7 //test sizeFold"
   ]
  },
  {
   "cell_type": "code",
   "execution_count": 359,
   "metadata": {
    "collapsed": false
   },
   "outputs": [
    {
     "data": {
      "text/plain": [
       "\u001b[36mres267\u001b[0m: \u001b[32mBoolean\u001b[0m = true"
      ]
     },
     "metadata": {},
     "output_type": "display_data"
    }
   ],
   "source": [
    "maxLeafFold(Branch(Branch(Branch(Leaf(1),Leaf(2)),Leaf(2)),Leaf(4))) == 4 //test maxLeafFold"
   ]
  },
  {
   "cell_type": "code",
   "execution_count": 361,
   "metadata": {
    "collapsed": false
   },
   "outputs": [
    {
     "data": {
      "text/plain": [
       "\u001b[36mres269\u001b[0m: \u001b[32mBoolean\u001b[0m = true"
      ]
     },
     "metadata": {},
     "output_type": "display_data"
    }
   ],
   "source": [
    "depthFold(Branch(Branch(Branch(Leaf(2),Branch(Leaf(1),Leaf(1))),Leaf(2)),Leaf(4))) == 5 //test depthFold"
   ]
  },
  {
   "cell_type": "code",
   "execution_count": null,
   "metadata": {
    "collapsed": true
   },
   "outputs": [],
   "source": []
  }
 ],
 "metadata": {
  "kernelspec": {
   "display_name": "Scala 2.11",
   "language": "scala211",
   "name": "scala211"
  },
  "language_info": {
   "codemirror_mode": "text/x-scala",
   "file_extension": ".scala",
   "mimetype": "text/x-scala",
   "name": "scala211",
   "pygments_lexer": "scala",
   "version": "2.11.6"
  }
 },
 "nbformat": 4,
 "nbformat_minor": 0
}
